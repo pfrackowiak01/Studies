{
 "cells": [
  {
   "cell_type": "markdown",
   "id": "3c5f33d0-a222-415f-84bf-e6a4d4c28ee5",
   "metadata": {
    "tags": []
   },
   "source": [
    "## Zadanie 1"
   ]
  },
  {
   "cell_type": "markdown",
   "id": "26b397bd-3dca-4f9d-83e6-343600d05314",
   "metadata": {
    "tags": []
   },
   "source": [
    "### Generuje kolejne liczby całkowite z zakresu [0, 100), znajduje liczby podzielne przez 13 i wyświetla ich ilość."
   ]
  },
  {
   "cell_type": "code",
   "execution_count": 1,
   "id": "9e238615-1b92-4af7-8a9d-30fdc8b890f9",
   "metadata": {},
   "outputs": [
    {
     "name": "stdout",
     "output_type": "stream",
     "text": [
      "Mniej optymalne:\n",
      "Liczby podzielne przez 13: [0, 13, 26, 39, 52, 65, 78, 91]\n",
      "Ilość liczb podzielnych przez 13: 8\n",
      "\n",
      "Bardziej optymalne:\n",
      "Ilość liczb podzielnych przez 13: 8\n"
     ]
    }
   ],
   "source": [
    "# Mniej optymalne rozwiązanie (wymaga przechowania wszystkich elementów w pamięci)\n",
    "liczby = range(100)\n",
    "liczby_podzielne_przez_13 = list(filter(lambda x: x % 13 == 0, liczby))\n",
    "ilosc_liczb_podzielnych_przez_13 = len(liczby_podzielne_przez_13)\n",
    "\n",
    "print(\"Mniej optymalne:\")\n",
    "print(\"Liczby podzielne przez 13:\", liczby_podzielne_przez_13)\n",
    "print(\"Ilość liczb podzielnych przez 13:\", ilosc_liczb_podzielnych_przez_13)\n",
    "print()\n",
    "\n",
    "# Bardziej optymalne rozwiązanie (NIE wymaga przechowania wszystkich elementów w pamięci)\n",
    "liczby = range(100)\n",
    "ilosc_liczb_podzielnych_przez_13 = sum(map(lambda x: x % 13 == 0, liczby))\n",
    "\n",
    "print(\"Bardziej optymalne:\")\n",
    "print(\"Ilość liczb podzielnych przez 13:\", ilosc_liczb_podzielnych_przez_13)"
   ]
  },
  {
   "cell_type": "markdown",
   "id": "295799c6-865b-4d71-b798-0e8521617f8a",
   "metadata": {
    "tags": []
   },
   "source": [
    "## Zadanie 2"
   ]
  },
  {
   "cell_type": "markdown",
   "id": "e182b564-215f-42c5-a592-50c591a5cb09",
   "metadata": {
    "tags": []
   },
   "source": [
    "### Implementacja programu obliczającego przybliżoną wartość liczby π metodą Monte Carlo."
   ]
  },
  {
   "cell_type": "code",
   "execution_count": 2,
   "id": "33d0b6f0-2b8e-4747-8fa0-be145eef7c4e",
   "metadata": {},
   "outputs": [
    {
     "name": "stdout",
     "output_type": "stream",
     "text": [
      "Przybliżona wartość liczby π: 3.132\n"
     ]
    }
   ],
   "source": [
    "import random\n",
    "\n",
    "def punkt():\n",
    "    x = random.random()\n",
    "    y = random.random()\n",
    "    return x**2 + y**2\n",
    "\n",
    "liczba_punktow = 1000\n",
    "\n",
    "punkty_w_okregu = len(list(filter(lambda d: d < 1, map(lambda _: punkt(), range(liczba_punktow)))))\n",
    "\n",
    "przyblizone_pi = (punkty_w_okregu / liczba_punktow) * 4\n",
    "\n",
    "print(\"Przybliżona wartość liczby π:\", przyblizone_pi)"
   ]
  },
  {
   "cell_type": "markdown",
   "id": "04c1264a-40db-4456-95da-f7784df798e0",
   "metadata": {},
   "source": [
    "## Zadanie 3"
   ]
  },
  {
   "cell_type": "markdown",
   "id": "2d55c25c-67df-4b24-83e6-dd747b0bf1d3",
   "metadata": {},
   "source": [
    "###  Funkcja do zapisywania na liście n pierwszych wyrazów ciągu Fibonacciego."
   ]
  },
  {
   "cell_type": "code",
   "execution_count": 3,
   "id": "b5e4e135-c194-4166-aaa5-4ec2230dce23",
   "metadata": {},
   "outputs": [
    {
     "name": "stdin",
     "output_type": "stream",
     "text": [
      "Podaj liczbę:  4\n"
     ]
    },
    {
     "name": "stdout",
     "output_type": "stream",
     "text": [
      "[0, 1, 1, 2]\n"
     ]
    }
   ],
   "source": [
    "def fibonacci(n):\n",
    "    fib = [0, 1]  # Inicjalizacja listy z dwoma pierwszymi wyrazami ciągu\n",
    "    while len(fib) < n:\n",
    "        next_fib = fib[-1] + fib[-2]  # Obliczanie kolejnego wyrazu\n",
    "        fib.append(next_fib)  # Dodawanie kolejnego wyrazu do listy\n",
    "    return fib\n",
    "\n",
    "n = int(input('Podaj liczbę: '))\n",
    "wynik = fibonacci(n)\n",
    "print(wynik)"
   ]
  },
  {
   "cell_type": "markdown",
   "id": "cff87d09-8fdd-473b-a6e8-61639f199a09",
   "metadata": {},
   "source": [
    "## Zadanie 4"
   ]
  },
  {
   "cell_type": "markdown",
   "id": "588db22e-0d48-4419-989e-1f4f955d214f",
   "metadata": {},
   "source": [
    "### Generuje listę 5 liczb całkowitych parzystych wylosowanych z przedziału [0, 100) i wyświetla je rosnąco na ekranie."
   ]
  },
  {
   "cell_type": "code",
   "execution_count": 4,
   "id": "04c38033-0b7e-4aa9-882c-04934d0670c3",
   "metadata": {},
   "outputs": [
    {
     "name": "stdout",
     "output_type": "stream",
     "text": [
      "Wylosowane liczby parzyste (rosnąco): [28, 52, 56, 64, 92]\n"
     ]
    }
   ],
   "source": [
    "import random\n",
    "\n",
    "liczby_parzyste = []\n",
    "\n",
    "while len(liczby_parzyste) < 5:\n",
    "    liczba = random.randint(0, 99)\n",
    "    if liczba % 2 == 0:\n",
    "        liczby_parzyste.append(liczba)\n",
    "\n",
    "liczby_parzyste.sort()\n",
    "\n",
    "print(\"Wylosowane liczby parzyste (rosnąco):\", liczby_parzyste)"
   ]
  },
  {
   "cell_type": "markdown",
   "id": "ca473bc6-38cb-4064-adb1-632ed3c15462",
   "metadata": {},
   "source": [
    "## Zadanie 5"
   ]
  },
  {
   "cell_type": "markdown",
   "id": "318030e3-4a5a-4461-bf68-6549fb09afe1",
   "metadata": {},
   "source": [
    "### Implementacja klasy Osoba oraz zastosowanie jej do tworzenia listy osób i wyświetlania różnych informacji."
   ]
  },
  {
   "cell_type": "code",
   "execution_count": 7,
   "id": "4393c1f3-9c5f-4449-9190-2949174ea80a",
   "metadata": {},
   "outputs": [
    {
     "name": "stdout",
     "output_type": "stream",
     "text": [
      "Dane wybranej osoby:\n",
      "Imię: Ola, Nazwisko: Kowalska, Wiek: 5, Miasto: Gdynia\n",
      "\n",
      "Dane wszystkich osób:\n",
      "Imię: Ola, Nazwisko: Kowalska, Wiek: 5, Miasto: Gdynia\n",
      "Imię: Ela, Nazwisko: Śmigalsa, Wiek: 34, Miasto: Lublin\n",
      "Imię: Hania, Nazwisko: Nowak, Wiek: 10, Miasto: Warszawa\n",
      "Imię: Kacper, Nazwisko: Kwiatkowski, Wiek: 22, Miasto: Kraków\n",
      "Imię: Kuba, Nazwisko: Malinowski, Wiek: 7, Miasto: Gdańsk\n",
      "Imię: Dominik, Nazwisko: Noga, Wiek: 7, Miasto: Wrocław\n",
      "\n",
      "Dane osób młodszych niż 10 lat:\n",
      "Imię: Ola, Nazwisko: Kowalska, Wiek: 5, Miasto: Gdynia\n",
      "Imię: Kuba, Nazwisko: Malinowski, Wiek: 7, Miasto: Gdańsk\n",
      "Imię: Dominik, Nazwisko: Noga, Wiek: 7, Miasto: Wrocław\n",
      "\n",
      "Liczba osób młodszych niż 10 lat: 3\n"
     ]
    }
   ],
   "source": [
    "class Osoba:\n",
    "    def __init__(self, imie, nazwisko, wiek, miasto):\n",
    "        self.imie = imie\n",
    "        self.nazwisko = nazwisko\n",
    "        self.wiek = wiek\n",
    "        self.miasto = miasto\n",
    "    \n",
    "    def __str__(self):\n",
    "        return f\"Imię: {self.imie}, Nazwisko: {self.nazwisko}, Wiek: {self.wiek}, Miasto: {self.miasto}\"\n",
    "    \n",
    "    def __repr__(self):\n",
    "        return self.nazwisko\n",
    "\n",
    "lista_osob = []\n",
    "\n",
    "lista_osob.append(Osoba(\"Ola\", \"Kowalska\", 5, \"Gdynia\"))\n",
    "lista_osob.append(Osoba(\"Ela\", \"Śmigalsa\", 34, \"Lublin\"))\n",
    "lista_osob.append(Osoba(\"Hania\", \"Nowak\", 10, \"Warszawa\"))\n",
    "lista_osob.append(Osoba(\"Kacper\", \"Kwiatkowski\", 22, \"Kraków\"))\n",
    "lista_osob.append(Osoba(\"Kuba\", \"Malinowski\", 7, \"Gdańsk\"))\n",
    "lista_osob.append(Osoba(\"Dominik\", \"Noga\", 7, \"Wrocław\"))\n",
    "\n",
    "\n",
    "# Dane wybranej osoby\n",
    "print(\"Dane wybranej osoby:\")\n",
    "print(lista_osob[0])\n",
    "print()\n",
    "\n",
    "# Dane wszystkich osób\n",
    "print(\"Dane wszystkich osób:\")\n",
    "for osoba in lista_osob:\n",
    "    print(osoba)\n",
    "print()\n",
    "\n",
    "# Wykorzystanie funkcji filter i generatora wyrażeń\n",
    "mlodsi_osoby = list(filter(lambda osoba: osoba.wiek < 10, lista_osob))\n",
    "\n",
    "# Dane osób młodszych niż 10 lat\n",
    "print(\"Dane osób młodszych niż 10 lat:\")\n",
    "for osoba in mlodsi_osoby:\n",
    "    print(osoba)\n",
    "print()\n",
    "\n",
    "# Liczba osób młodszych niż 10 lat\n",
    "liczba_mlodszych = len(mlodsi_osoby)\n",
    "print(\"Liczba osób młodszych niż 10 lat:\", liczba_mlodszych)"
   ]
  }
 ],
 "metadata": {
  "kernelspec": {
   "display_name": "Python 3 (ipykernel)",
   "language": "python",
   "name": "python3"
  },
  "language_info": {
   "codemirror_mode": {
    "name": "ipython",
    "version": 3
   },
   "file_extension": ".py",
   "mimetype": "text/x-python",
   "name": "python",
   "nbconvert_exporter": "python",
   "pygments_lexer": "ipython3",
   "version": "3.9.2"
  }
 },
 "nbformat": 4,
 "nbformat_minor": 5
}
