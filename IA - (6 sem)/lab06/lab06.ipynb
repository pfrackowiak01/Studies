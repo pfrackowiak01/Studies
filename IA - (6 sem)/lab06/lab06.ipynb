{
 "cells": [
  {
   "cell_type": "markdown",
   "id": "46e88116-82d8-4fca-802b-994f062d598d",
   "metadata": {},
   "source": [
    "## Zadanie 1"
   ]
  },
  {
   "cell_type": "markdown",
   "id": "ce09dbe4-96b6-48c6-aa00-72db22f54cfa",
   "metadata": {},
   "source": [
    "### Utwórz notebook Python i dołącz do niego niezbędne biblioteki."
   ]
  },
  {
   "cell_type": "code",
   "execution_count": 1,
   "id": "3e24d11b-c580-48e0-81ec-1c8f2ff55555",
   "metadata": {},
   "outputs": [
    {
     "name": "stderr",
     "output_type": "stream",
     "text": [
      "WARNING: An illegal reflective access operation has occurred\n",
      "WARNING: Illegal reflective access by org.apache.spark.unsafe.Platform (file:/opt/spark/jars/spark-unsafe_2.12-3.1.3.jar) to constructor java.nio.DirectByteBuffer(long,int)\n",
      "WARNING: Please consider reporting this to the maintainers of org.apache.spark.unsafe.Platform\n",
      "WARNING: Use --illegal-access=warn to enable warnings of further illegal reflective access operations\n",
      "WARNING: All illegal access operations will be denied in a future release\n",
      "23/05/29 12:01:16 WARN NativeCodeLoader: Unable to load native-hadoop library for your platform... using builtin-java classes where applicable\n",
      "Using Spark's default log4j profile: org/apache/spark/log4j-defaults.properties\n",
      "Setting default log level to \"WARN\".\n",
      "To adjust logging level use sc.setLogLevel(newLevel). For SparkR, use setLogLevel(newLevel).\n",
      "23/05/29 12:01:18 WARN Utils: Service 'SparkUI' could not bind on port 4040. Attempting port 4041.\n",
      "23/05/29 12:01:18 WARN Utils: Service 'SparkUI' could not bind on port 4041. Attempting port 4042.\n",
      "23/05/29 12:01:18 WARN Utils: Service 'SparkUI' could not bind on port 4042. Attempting port 4043.\n",
      "23/05/29 12:01:18 WARN Utils: Service 'SparkUI' could not bind on port 4043. Attempting port 4044.\n",
      "23/05/29 12:01:18 WARN Utils: Service 'SparkUI' could not bind on port 4044. Attempting port 4045.\n",
      "23/05/29 12:01:18 WARN Utils: Service 'SparkUI' could not bind on port 4045. Attempting port 4046.\n",
      "23/05/29 12:01:18 WARN Utils: Service 'SparkUI' could not bind on port 4046. Attempting port 4047.\n",
      "23/05/29 12:01:18 WARN Utils: Service 'SparkUI' could not bind on port 4047. Attempting port 4048.\n",
      "23/05/29 12:01:18 WARN Utils: Service 'SparkUI' could not bind on port 4048. Attempting port 4049.\n",
      "23/05/29 12:01:18 WARN Utils: Service 'SparkUI' could not bind on port 4049. Attempting port 4050.\n",
      "23/05/29 12:01:18 WARN Utils: Service 'SparkUI' could not bind on port 4050. Attempting port 4051.\n",
      "23/05/29 12:01:18 WARN Utils: Service 'SparkUI' could not bind on port 4051. Attempting port 4052.\n",
      "23/05/29 12:01:18 WARN Utils: Service 'SparkUI' could not bind on port 4052. Attempting port 4053.\n",
      "23/05/29 12:01:18 WARN Utils: Service 'SparkUI' could not bind on port 4053. Attempting port 4054.\n",
      "23/05/29 12:01:18 WARN Utils: Service 'SparkUI' could not bind on port 4054. Attempting port 4055.\n",
      "23/05/29 12:01:18 WARN Utils: Service 'SparkUI' could not bind on port 4055. Attempting port 4056.\n"
     ]
    },
    {
     "name": "stdout",
     "output_type": "stream",
     "text": [
      "3.1.3\n"
     ]
    }
   ],
   "source": [
    "import findspark\n",
    "findspark.init()\n",
    "import pyspark\n",
    "from pyspark.sql import SparkSession\n",
    "spark = SparkSession.builder.getOrCreate()\n",
    "print(spark.version)"
   ]
  },
  {
   "cell_type": "markdown",
   "id": "e56da0c5-ed54-4509-82de-e970eaf433aa",
   "metadata": {},
   "source": [
    "## Zadanie 2"
   ]
  },
  {
   "cell_type": "markdown",
   "id": "a3d99062-bb5a-4f5b-9670-d4aa2b7c8338",
   "metadata": {},
   "source": [
    "### Obejrzyj zawartość pliku user_artist_data.txt w edytorze dla plików tekstowych Notatnik lub Notepad++ i porównaj z opisaną wyżej tabelką. Następnie napisz kod w języku Python, który odczyta zawartość pliku i zapamięta w kolekcji DataFrame systemu Spark."
   ]
  },
  {
   "cell_type": "code",
   "execution_count": 2,
   "id": "570e004f-c818-4862-b8f2-f009aeae3199",
   "metadata": {},
   "outputs": [
    {
     "name": "stderr",
     "output_type": "stream",
     "text": [
      "                                                                                \r"
     ]
    },
    {
     "name": "stdout",
     "output_type": "stream",
     "text": [
      "49481\n",
      "+-------+--------+-----+\n",
      "| UserId|ArtistId|Plays|\n",
      "+-------+--------+-----+\n",
      "|1059637| 1000010|  238|\n",
      "|1059637| 1000049|    1|\n",
      "|1059637| 1000056|    1|\n",
      "|1059637| 1000062|   11|\n",
      "|1059637| 1000094|    1|\n",
      "|1059637| 1000112|  423|\n",
      "|1059637| 1000113|    5|\n",
      "|1059637| 1000114|    2|\n",
      "|1059637| 1000123|    2|\n",
      "|1059637| 1000130|19129|\n",
      "+-------+--------+-----+\n",
      "only showing top 10 rows\n",
      "\n"
     ]
    }
   ],
   "source": [
    "from pyspark.sql.types import StructType, StructField, IntegerType, StringType\n",
    "\n",
    "struct_uad = StructType([ \\\n",
    "StructField(\"UserId\", IntegerType(), True),\n",
    "StructField(\"ArtistId\", IntegerType(), True),\n",
    "StructField(\"Plays\", IntegerType(), True)])\n",
    "\n",
    "df_uad = spark.read.format(\"csv\") \\\n",
    ".option(\"header\", \"false\") \\\n",
    ".option(\"delimiter\", \" \") \\\n",
    ".schema(struct_uad) \\\n",
    ".load(\"user_artist_data.txt\")\n",
    "\n",
    "print(df_uad.count())\n",
    "df_uad.show(10)"
   ]
  },
  {
   "cell_type": "markdown",
   "id": "881db39e-59ce-4148-b172-9b1e6822b539",
   "metadata": {},
   "source": [
    "## Zadanie 3"
   ]
  },
  {
   "cell_type": "markdown",
   "id": "d80867c9-d9a4-456c-b79b-6f6010647a88",
   "metadata": {},
   "source": [
    "### Analogicznie jak w poprzednim zadaniu odczytaj dane z pliku artist_data.txt. Uwaga, w tym pliku dane zostały rozdzielone znakiem tabulacji \"\\t\"."
   ]
  },
  {
   "cell_type": "code",
   "execution_count": 3,
   "id": "0507ddcc-d48f-4289-8701-6c64b278a403",
   "metadata": {},
   "outputs": [
    {
     "name": "stdout",
     "output_type": "stream",
     "text": [
      "30537\n",
      "+--------+--------------------+\n",
      "|ArtistId|          ArtistName|\n",
      "+--------+--------------------+\n",
      "| 1240105|        André Visior|\n",
      "| 1240113|           riow arai|\n",
      "| 1240132|Outkast & Rage Ag...|\n",
      "| 6776115|            小松正夫|\n",
      "| 1030848|      Raver's Nature|\n",
      "| 6671601|      Erguner, Kudsi|\n",
      "| 1106617|              Bloque|\n",
      "| 1240185|      Lexy & K. Paul|\n",
      "| 6671631|    Rev. W.M. Mosley|\n",
      "| 6671632|      Labelle, Patti|\n",
      "+--------+--------------------+\n",
      "only showing top 10 rows\n",
      "\n"
     ]
    }
   ],
   "source": [
    "from pyspark.sql.types import StructType, StructField, IntegerType, StringType\n",
    "\n",
    "struct_ad = StructType([ \\\n",
    "StructField(\"ArtistId\", IntegerType(), True),\n",
    "StructField(\"ArtistName\", StringType(), True)])\n",
    "\n",
    "df_ad = spark.read.format(\"csv\") \\\n",
    ".option(\"header\", \"false\") \\\n",
    ".option(\"delimiter\", \"\\t\") \\\n",
    ".schema(struct_ad) \\\n",
    ".load(\"artist_data.txt\")\n",
    "\n",
    "print(df_ad.count())\n",
    "df_ad.show(10)"
   ]
  },
  {
   "cell_type": "markdown",
   "id": "453956f2-4aa6-443d-b9f6-32d2a60c2a48",
   "metadata": {},
   "source": [
    "## Zadanie 4"
   ]
  },
  {
   "cell_type": "markdown",
   "id": "52c4f504-8fac-45ec-9d87-fd774fff5f68",
   "metadata": {},
   "source": [
    "### Wyświetl 10 pierwszych wierszy z kolekcji df_uad podstawiając nazwę artysty ArtistName zamiast jego identyfikatora ArtistId."
   ]
  },
  {
   "cell_type": "code",
   "execution_count": 4,
   "id": "69883e9e-eb3d-47c5-bff0-f24ff656f19e",
   "metadata": {},
   "outputs": [
    {
     "name": "stdout",
     "output_type": "stream",
     "text": [
      "+-------+--------------------+-----+\n",
      "| UserId|          ArtistName|Plays|\n",
      "+-------+--------------------+-----+\n",
      "|1059637|           Aerosmith|  238|\n",
      "|1059637|     Edna's Goldfish|    1|\n",
      "|1059637|The Mighty Mighty...|    1|\n",
      "|1059637|        Foo Fighters|   11|\n",
      "|1059637|  The Bouncing Souls|    1|\n",
      "|1059637|       Alkaline Trio|  423|\n",
      "|1059637|         The Beatles|    5|\n",
      "|1059637|           Pennywise|    2|\n",
      "|1059637|             Incubus|    2|\n",
      "|1059637|         Bright Eyes|19129|\n",
      "+-------+--------------------+-----+\n",
      "only showing top 10 rows\n",
      "\n"
     ]
    }
   ],
   "source": [
    "df_uad.join(df_ad, df_uad.ArtistId == df_ad.ArtistId, \"inner\"). \\\n",
    " select(\"UserId\", \"ArtistName\", \"Plays\").show(10)"
   ]
  },
  {
   "cell_type": "markdown",
   "id": "0208c1d9-a42b-4c25-be0a-1a44718892f9",
   "metadata": {},
   "source": [
    "## Zadanie 5"
   ]
  },
  {
   "cell_type": "markdown",
   "id": "f9daf2fa-3565-46a6-901a-bb23e67604af",
   "metadata": {},
   "source": [
    "### Sprawdź czy kolekcje df_uad i df_ad spełniają wymagania algorytmu ALS (Alternating Least Squares) z biblioteki MLlib pod względem zakresu danych. ALS wymaga, żeby identyfikatory zarówno użytkowników, jak i przedmiotów (tutaj artystów) mieściły się w zakresie liczby 32 bitowej.\n"
   ]
  },
  {
   "cell_type": "code",
   "execution_count": 7,
   "id": "6428f28c-3bc1-4f34-86ef-c3b9843fe3a2",
   "metadata": {},
   "outputs": [
    {
     "name": "stdout",
     "output_type": "stream",
     "text": [
      "2147483648\n",
      "+-------+------------------+------------------+------------------+\n",
      "|summary|            UserId|          ArtistId|             Plays|\n",
      "+-------+------------------+------------------+------------------+\n",
      "|  count|             49481|             49481|             49481|\n",
      "|   mean|1328420.1949435137|2003155.0297285826|130.57579677047755|\n",
      "| stddev| 452991.3131262286|2489609.3644763026|3034.3847545693047|\n",
      "|    min|           1000647|                 1|                 1|\n",
      "|    25%|           1024631|           1004015|                 2|\n",
      "|    50%|           1059245|           1055553|                 7|\n",
      "|    75%|           2010008|           1313001|                37|\n",
      "|    max|           2288164|          10788218|            439771|\n",
      "+-------+------------------+------------------+------------------+\n",
      "\n"
     ]
    },
    {
     "name": "stderr",
     "output_type": "stream",
     "text": [
      "[Stage 12:>                                                         (0 + 1) / 1]\r"
     ]
    },
    {
     "name": "stdout",
     "output_type": "stream",
     "text": [
      "+-------+------------------+--------------------+\n",
      "|summary|          ArtistId|          ArtistName|\n",
      "+-------+------------------+--------------------+\n",
      "|  count|             30537|               30537|\n",
      "|   mean|2723610.0883845827|            Infinity|\n",
      "| stddev| 2875961.846523714|                 NaN|\n",
      "|    min|                 1|      DAVID BLUMBERG|\n",
      "|    25%|           1033156|                15.0|\n",
      "|    50%|           1238776|               180.0|\n",
      "|    75%|           2164466|               441.0|\n",
      "|    max|          10788218|�����������������...|\n",
      "+-------+------------------+--------------------+\n",
      "\n"
     ]
    },
    {
     "name": "stderr",
     "output_type": "stream",
     "text": [
      "                                                                                \r"
     ]
    }
   ],
   "source": [
    "print(pow(2,31))\n",
    "\n",
    "df_uad.summary().show()\n",
    "\n",
    "df_ad.summary().show()"
   ]
  },
  {
   "cell_type": "markdown",
   "id": "18e3e1db-dfc6-4d2e-b735-f712b1254409",
   "metadata": {},
   "source": [
    "## Zadanie 6"
   ]
  },
  {
   "cell_type": "markdown",
   "id": "a1acd359-0a63-4561-9ed5-ae8f36cda34e",
   "metadata": {},
   "source": [
    "### Podziel dane z kolekcji df_uad na zbiór treningowy i testowy w proporcji 0.8 do 0.2. Wyświetl na ekranie liczbę elementów każdego ze zbiorów."
   ]
  },
  {
   "cell_type": "code",
   "execution_count": 10,
   "id": "b5e287d3-e410-471e-9b99-f416f7f38155",
   "metadata": {},
   "outputs": [
    {
     "name": "stdout",
     "output_type": "stream",
     "text": [
      "Train: 39503\n",
      "Test:  9978\n"
     ]
    }
   ],
   "source": [
    "[df_train, df_test] = df_uad.randomSplit([0.8, 0.2])\n",
    "print(\"Train:\", df_train.count())\n",
    "print(\"Test: \", df_test.count())"
   ]
  },
  {
   "cell_type": "markdown",
   "id": "142de41d-92a5-4c5f-9a60-417173543a8e",
   "metadata": {},
   "source": [
    "## Zadanie 7"
   ]
  },
  {
   "cell_type": "markdown",
   "id": "d8486285-00a6-4d1b-8e30-e715dc2bb3ab",
   "metadata": {},
   "source": [
    "### Zbuduj model dla sytemu rekomendacji korzystając z algorytmu ALS (Alternating Least Squares) z biblioteki MLlib oraz zbioru treningowego."
   ]
  },
  {
   "cell_type": "code",
   "execution_count": 13,
   "id": "ee143cf2-3d7d-4950-a62d-d3f4d8b8012d",
   "metadata": {},
   "outputs": [],
   "source": [
    "from pyspark.ml.recommendation import ALS\n",
    "\n",
    "als = ALS( \\\n",
    "seed=327, \\\n",
    "implicitPrefs=True, \\\n",
    "rank = 10, \\\n",
    "maxIter = 5, \\\n",
    "userCol=\"UserId\", \\\n",
    "itemCol=\"ArtistId\", \\\n",
    "ratingCol=\"Plays\", \\\n",
    ")\n",
    "model = als.fit(df_train)"
   ]
  },
  {
   "cell_type": "markdown",
   "id": "33fa49b3-dc53-468c-83ed-62d1e2b78dbf",
   "metadata": {},
   "source": [
    "## Zadanie 8"
   ]
  },
  {
   "cell_type": "markdown",
   "id": "e2c1b4bf-69f0-4d48-944c-82f7fcea6b9b",
   "metadata": {},
   "source": [
    "### Uruchom model na zbiorze testowym. W zbiorze wynikowym usuń dane dla nieznanych id."
   ]
  },
  {
   "cell_type": "code",
   "execution_count": 16,
   "id": "255c9a16-3f46-4f23-9721-6fc7a24223ae",
   "metadata": {},
   "outputs": [],
   "source": [
    "model.setColdStartStrategy(\"drop\")\n",
    "df_predictions= model.transform(df_test)"
   ]
  },
  {
   "cell_type": "markdown",
   "id": "61dd3303-dae2-44df-914e-c48a04286cc1",
   "metadata": {},
   "source": [
    "## Zadanie 9"
   ]
  },
  {
   "cell_type": "markdown",
   "id": "7d42115a-0708-4532-b9a1-880af305ae21",
   "metadata": {},
   "source": [
    "### Wygeneruj 10 najlepszych znalezionych rekomendacji dla każdego użytkownika korzystając z metody recommendForAllUsers klasy modelu ALS. Wyświetl kilku pierwszych użytkowników i rekomendacje dla nich."
   ]
  },
  {
   "cell_type": "code",
   "execution_count": 17,
   "id": "55179c72-9db9-4761-b527-e89aed02373a",
   "metadata": {},
   "outputs": [
    {
     "name": "stderr",
     "output_type": "stream",
     "text": [
      "                                                                                \r"
     ]
    },
    {
     "name": "stdout",
     "output_type": "stream",
     "text": [
      "+-------+----------------------------------------------------------------------------------------------------------------------------------------------------------------------------------------------------------------------------+\n",
      "| UserId|                                                                                                                                                                                                             recommendations|\n",
      "+-------+----------------------------------------------------------------------------------------------------------------------------------------------------------------------------------------------------------------------------+\n",
      "|2007381|                           [{1006672, 2.3055282}, {1014421, 1.9727175}, {1428, 1.8304092}, {82, 1.8264846}, {831, 1.8027707}, {1, 1.7782328}, {1231740, 1.7767621}, {352, 1.7704989}, {53, 1.7531186}, {1000139, 1.7133775}]|\n",
      "|1059637|                     [{1330, 2.3283498}, {1001027, 1.7579688}, {304, 1.7398098}, {1000323, 1.7247537}, {1004226, 1.7085555}, {1001482, 1.690406}, {754, 1.6841222}, {1, 1.6331749}, {1002840, 1.5961075}, {1319, 1.5659342}]|\n",
      "|1073421|               [{3150, 1.4765427}, {1233342, 1.3447174}, {1007735, 1.236485}, {1002095, 1.123288}, {1001066, 1.0706435}, {1002818, 1.0616693}, {5741, 1.0282595}, {1000130, 1.0187687}, {754, 1.0169405}, {2854, 1.0151033}]|\n",
      "|2288164|[{1001048, 2.1066442}, {1014421, 1.8662474}, {1238151, 1.4829521}, {1000139, 1.4190149}, {1002326, 1.3642466}, {1345608, 1.3613003}, {1000321, 1.3155199}, {1000498, 1.3072667}, {1004301, 1.2496699}, {1002216, 1.2019347}]|\n",
      "|1001440|       [{4371, 2.7805893}, {1004226, 2.5058727}, {1026440, 2.3382313}, {1238151, 2.138462}, {1000263, 1.9198308}, {1004484, 1.7935832}, {1002704, 1.7715522}, {5606, 1.7546914}, {1002326, 1.7447038}, {1012235, 1.6952679}]|\n",
      "+-------+----------------------------------------------------------------------------------------------------------------------------------------------------------------------------------------------------------------------------+\n",
      "only showing top 5 rows\n",
      "\n"
     ]
    }
   ],
   "source": [
    "rec4user10 = model.recommendForAllUsers(10)\n",
    "rec4user10.show(5,250)"
   ]
  },
  {
   "cell_type": "markdown",
   "id": "6f371a8a-15c6-4484-a099-ef0fed33401b",
   "metadata": {},
   "source": [
    "## Zadanie 10"
   ]
  },
  {
   "cell_type": "markdown",
   "id": "377dbd31-f863-49d4-84aa-b725c5fdbe53",
   "metadata": {},
   "source": [
    "### Wyświetl 5 najlepszych znalezionych rekomendacji dla dwóch użytkowników: 1059637 i 2007381. Skorzystaj z metody recommendForUserSubset."
   ]
  },
  {
   "cell_type": "code",
   "execution_count": 19,
   "id": "af764c43-e23c-4942-ad4b-2a65893a992b",
   "metadata": {},
   "outputs": [
    {
     "name": "stdout",
     "output_type": "stream",
     "text": [
      "+-------+\n",
      "| UserId|\n",
      "+-------+\n",
      "|1059637|\n",
      "|2007381|\n",
      "+-------+\n",
      "\n"
     ]
    },
    {
     "name": "stderr",
     "output_type": "stream",
     "text": [
      "                                                                                \r"
     ]
    },
    {
     "name": "stdout",
     "output_type": "stream",
     "text": [
      "+-------+-------------------------------------------------------------------------------------------------------+\n",
      "| UserId|                                                                                        recommendations|\n",
      "+-------+-------------------------------------------------------------------------------------------------------+\n",
      "|2007381|     [{1006672, 2.3055282}, {1014421, 1.9727175}, {1428, 1.8304092}, {82, 1.8264846}, {831, 1.8027707}]|\n",
      "|1059637|[{1330, 2.3283498}, {1001027, 1.7579688}, {304, 1.7398098}, {1000323, 1.7247537}, {1004226, 1.7085555}]|\n",
      "+-------+-------------------------------------------------------------------------------------------------------+\n",
      "\n"
     ]
    }
   ],
   "source": [
    "usersId=[{'UserId':1059637},{'UserId':2007381}]\n",
    "df_uid=spark.createDataFrame(usersId)\n",
    "df_uid.show()\n",
    "\n",
    "rec42users5 = model.recommendForUserSubset(df_uid, 5);\n",
    "rec42users5.show(2,250)"
   ]
  },
  {
   "cell_type": "markdown",
   "id": "29c2c05e-b551-48ad-9ca2-b086a8863d73",
   "metadata": {},
   "source": [
    "## Zadanie 11"
   ]
  },
  {
   "cell_type": "markdown",
   "id": "f19b8ee4-4fcf-4ccc-b011-16a4c9efc9d8",
   "metadata": {},
   "source": [
    "### Wyświetl 6 rekomendacji dla jednego, wybranego użytkownika zamieniając identyfikatory artystów na ich nazwy."
   ]
  },
  {
   "cell_type": "code",
   "execution_count": 26,
   "id": "a013b3ff-aadf-4f2c-b000-7be24253603a",
   "metadata": {},
   "outputs": [
    {
     "name": "stdout",
     "output_type": "stream",
     "text": [
      "+-------+\n",
      "| UserId|\n",
      "+-------+\n",
      "|1059637|\n",
      "+-------+\n",
      "\n",
      "+-------+--------------------+-----+\n",
      "| UserId|          ArtistName|Plays|\n",
      "+-------+--------------------+-----+\n",
      "|1059637|           Aerosmith|  238|\n",
      "|1059637|     Edna's Goldfish|    1|\n",
      "|1059637|The Mighty Mighty...|    1|\n",
      "|1059637|        Foo Fighters|   11|\n",
      "|1059637|  The Bouncing Souls|    1|\n",
      "|1059637|       Alkaline Trio|  423|\n",
      "|1059637|         The Beatles|    5|\n",
      "|1059637|           Pennywise|    2|\n",
      "|1059637|             Incubus|    2|\n",
      "|1059637|         Bright Eyes|19129|\n",
      "+-------+--------------------+-----+\n",
      "only showing top 10 rows\n",
      "\n"
     ]
    },
    {
     "name": "stderr",
     "output_type": "stream",
     "text": [
      "                                                                                \r"
     ]
    },
    {
     "name": "stdout",
     "output_type": "stream",
     "text": [
      "+-------+----------------------------------------------------------------------------------------------------------------------------+\n",
      "| UserId|                                                                                                             recommendations|\n",
      "+-------+----------------------------------------------------------------------------------------------------------------------------+\n",
      "|1059637|[{1330, 2.3283498}, {1001027, 1.7579688}, {304, 1.7398098}, {1000323, 1.7247537}, {1004226, 1.7085555}, {1001482, 1.690406}]|\n",
      "+-------+----------------------------------------------------------------------------------------------------------------------------+\n",
      "\n"
     ]
    }
   ],
   "source": [
    "from pyspark.sql.functions import explode\n",
    "\n",
    "usersId=[{'UserId':1059637}]\n",
    "df_uid=spark.createDataFrame(usersId)\n",
    "df_uid.show()\n",
    "\n",
    "df_uad.join(df_ad, df_uad.ArtistId == df_ad.ArtistId, \"inner\"). \\\n",
    " select(\"UserId\", \"ArtistName\", \"Plays\").show(10)\n",
    "\n",
    "rec42users5 = model.recommendForUserSubset(df_uid, 6);\n",
    "rec42users5.show(2,250)"
   ]
  },
  {
   "cell_type": "markdown",
   "id": "3981b1cf-2f3a-441b-95bb-e622d1534e20",
   "metadata": {},
   "source": [
    "## Zadanie 12"
   ]
  },
  {
   "cell_type": "markdown",
   "id": "75bae946-8bb9-4db5-89ad-99eb594a5293",
   "metadata": {},
   "source": [
    "### Sprawdź czy rekomendacje z zadania 9 są trafione wyświetlając nazwy artystów, których ten użytkownik najczęściej słuchał."
   ]
  },
  {
   "cell_type": "code",
   "execution_count": 29,
   "id": "2120d259-566f-4d10-8cc6-68dc4558be42",
   "metadata": {},
   "outputs": [
    {
     "ename": "TypeError",
     "evalue": "condition should be string or Column",
     "output_type": "error",
     "traceback": [
      "\u001b[0;31m---------------------------------------------------------------------------\u001b[0m",
      "\u001b[0;31mTypeError\u001b[0m                                 Traceback (most recent call last)",
      "Input \u001b[0;32mIn [29]\u001b[0m, in \u001b[0;36m<cell line: 1>\u001b[0;34m()\u001b[0m\n\u001b[0;32m----> 1\u001b[0m d \u001b[38;5;241m=\u001b[39m \u001b[43mdf_uad\u001b[49m\u001b[38;5;241;43m.\u001b[39;49m\u001b[43mfilter\u001b[49m\u001b[43m(\u001b[49m\u001b[38;5;28;43;01mlambda\u001b[39;49;00m\u001b[43m \u001b[49m\u001b[43mel\u001b[49m\u001b[43m:\u001b[49m\u001b[43m \u001b[49m\u001b[43mel\u001b[49m\u001b[38;5;241;43m.\u001b[39;49m\u001b[43mUserId\u001b[49m\u001b[38;5;241;43m==\u001b[39;49m\u001b[38;5;241;43m1059637\u001b[39;49m\u001b[43m)\u001b[49m\u001b[38;5;241m.\u001b[39mcollect()\n\u001b[1;32m      2\u001b[0m \u001b[38;5;28mprint\u001b[39m(d)\n",
      "File \u001b[0;32m/opt/spark/python/pyspark/sql/dataframe.py:1719\u001b[0m, in \u001b[0;36mDataFrame.filter\u001b[0;34m(self, condition)\u001b[0m\n\u001b[1;32m   1717\u001b[0m     jdf \u001b[38;5;241m=\u001b[39m \u001b[38;5;28mself\u001b[39m\u001b[38;5;241m.\u001b[39m_jdf\u001b[38;5;241m.\u001b[39mfilter(condition\u001b[38;5;241m.\u001b[39m_jc)\n\u001b[1;32m   1718\u001b[0m \u001b[38;5;28;01melse\u001b[39;00m:\n\u001b[0;32m-> 1719\u001b[0m     \u001b[38;5;28;01mraise\u001b[39;00m \u001b[38;5;167;01mTypeError\u001b[39;00m(\u001b[38;5;124m\"\u001b[39m\u001b[38;5;124mcondition should be string or Column\u001b[39m\u001b[38;5;124m\"\u001b[39m)\n\u001b[1;32m   1720\u001b[0m \u001b[38;5;28;01mreturn\u001b[39;00m DataFrame(jdf, \u001b[38;5;28mself\u001b[39m\u001b[38;5;241m.\u001b[39msql_ctx)\n",
      "\u001b[0;31mTypeError\u001b[0m: condition should be string or Column"
     ]
    }
   ],
   "source": []
  },
  {
   "cell_type": "markdown",
   "id": "52d3f85b-b496-4f34-87eb-6caf6a2971be",
   "metadata": {},
   "source": [
    "## Zadanie 13"
   ]
  },
  {
   "cell_type": "markdown",
   "id": "12d3d6c3-a326-4c55-bf71-7590c8c60a4c",
   "metadata": {},
   "source": [
    "### Wyświetl 8 najlepszych proponowanych rekomendacji użytkowników dla każdego artysty korzystając z metody recommendForAllItems. Ogranicz listę do 5 pierwszych artystów."
   ]
  },
  {
   "cell_type": "code",
   "execution_count": null,
   "id": "b84f13be-dab2-4252-b7fb-ad0f42d0cb4f",
   "metadata": {},
   "outputs": [],
   "source": []
  },
  {
   "cell_type": "markdown",
   "id": "b9434b6d-6bf4-4d49-a02f-e62497908a1b",
   "metadata": {},
   "source": [
    "## Zadanie 15"
   ]
  },
  {
   "cell_type": "markdown",
   "id": "7f96d0e3-115f-4495-80a8-7150c76e7e00",
   "metadata": {},
   "source": [
    "### Wyświetl 4 najlepsze znalezione rekomendacje użytkowników dla trzech wybranych artystów: 1205, 1007027, 1007735. Skorzystaj z metody recommendForItemSubset."
   ]
  },
  {
   "cell_type": "code",
   "execution_count": null,
   "id": "76a30693-1ffa-429f-a13e-687986682c46",
   "metadata": {},
   "outputs": [],
   "source": []
  },
  {
   "cell_type": "markdown",
   "id": "a826d1e0-4c1e-42d7-8ddc-b2ee287cb4a1",
   "metadata": {},
   "source": [
    "## Zadanie 16"
   ]
  },
  {
   "cell_type": "markdown",
   "id": "dd24afdf-a2bf-4cbc-a14e-c501913ba65f",
   "metadata": {},
   "source": [
    "### Wyświetl 6 najlepszych rekomendacji użytkowników dla pięciu najczęściej słuchanych artystów."
   ]
  },
  {
   "cell_type": "code",
   "execution_count": null,
   "id": "7d2ff2eb-5fa6-4141-8b2e-9094c9ee47c6",
   "metadata": {},
   "outputs": [],
   "source": []
  },
  {
   "cell_type": "markdown",
   "id": "c02f65b5-5a6e-4075-9bb1-2e8d275ea7b8",
   "metadata": {},
   "source": [
    "## Zadanie 17"
   ]
  },
  {
   "cell_type": "markdown",
   "id": "b01ae3b9-082a-4a6d-8c35-9b008a3f73d4",
   "metadata": {},
   "source": [
    "### Wyświetl 10 najlepszych rekomendacji dla 6 użytkowników którzy przesłuchali najwięcej utworów.\n"
   ]
  },
  {
   "cell_type": "code",
   "execution_count": null,
   "id": "edaae96c-c16c-4097-b8b2-e81a258a575e",
   "metadata": {},
   "outputs": [],
   "source": []
  },
  {
   "cell_type": "code",
   "execution_count": null,
   "id": "50185b7d-ee3d-47c5-8b13-3b1e7ad92f5b",
   "metadata": {},
   "outputs": [],
   "source": [
    "Klasyfikacja, regresja, grupowania   (ALS)"
   ]
  }
 ],
 "metadata": {
  "kernelspec": {
   "display_name": "Python 3 (ipykernel)",
   "language": "python",
   "name": "python3"
  },
  "language_info": {
   "codemirror_mode": {
    "name": "ipython",
    "version": 3
   },
   "file_extension": ".py",
   "mimetype": "text/x-python",
   "name": "python",
   "nbconvert_exporter": "python",
   "pygments_lexer": "ipython3",
   "version": "3.9.2"
  }
 },
 "nbformat": 4,
 "nbformat_minor": 5
}
