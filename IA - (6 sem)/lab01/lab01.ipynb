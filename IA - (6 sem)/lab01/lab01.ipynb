{
 "cells": [
  {
   "cell_type": "markdown",
   "id": "df83a309-9abc-4958-bc35-c02e6b58e444",
   "metadata": {
    "tags": []
   },
   "source": [
    "## Zadanie 1"
   ]
  },
  {
   "cell_type": "markdown",
   "id": "b9b9351f-524f-452a-9ca0-f80fa1cf3690",
   "metadata": {},
   "source": [
    "### - Zmienne i ich wyświetlanie"
   ]
  },
  {
   "cell_type": "code",
   "execution_count": 1,
   "id": "6df27705-f810-4ea0-8e88-80688c5feb6c",
   "metadata": {},
   "outputs": [
    {
     "name": "stdout",
     "output_type": "stream",
     "text": [
      "10\n",
      "Witaj Python\n"
     ]
    }
   ],
   "source": [
    "x = 10\n",
    "s = \"Witaj Python\"\n",
    "print(x)\n",
    "print(s)"
   ]
  },
  {
   "cell_type": "markdown",
   "id": "1422ed93-b854-427b-b6c2-7f3922187514",
   "metadata": {
    "tags": []
   },
   "source": [
    "## Zadanie 2"
   ]
  },
  {
   "cell_type": "markdown",
   "id": "cda987eb-844f-492a-a0b1-7b727f869bf6",
   "metadata": {},
   "source": [
    "### - Funkcja"
   ]
  },
  {
   "cell_type": "code",
   "execution_count": 2,
   "id": "477683f3-065f-426b-845a-3cdfa59a8688",
   "metadata": {
    "tags": []
   },
   "outputs": [
    {
     "name": "stdout",
     "output_type": "stream",
     "text": [
      "5.0\n"
     ]
    }
   ],
   "source": [
    "import math\n",
    "def psk(x, y):\n",
    " return math.sqrt(x*x+y*y)\n",
    "print(psk(3,4))\n"
   ]
  },
  {
   "cell_type": "markdown",
   "id": "82c4c626-4419-40d9-ae07-c412e2b59e2e",
   "metadata": {
    "tags": []
   },
   "source": [
    "## Zadanie 3"
   ]
  },
  {
   "cell_type": "markdown",
   "id": "0bd5ae47-2a22-4aaf-8bb3-d7acbac627f9",
   "metadata": {},
   "source": [
    "### - Pętla for, - Random"
   ]
  },
  {
   "cell_type": "code",
   "execution_count": 3,
   "id": "ab6ab73f-e14f-4e92-9629-628576ede9a6",
   "metadata": {
    "tags": []
   },
   "outputs": [
    {
     "name": "stdout",
     "output_type": "stream",
     "text": [
      "5.104356490959994\n",
      "8.009774850680323\n",
      "6.924214136567314\n",
      "9.154804890765131\n",
      "8.263714253647507\n",
      "9.368339931511695\n",
      "7.250985399066049\n",
      "8.531740730797733\n",
      "5.282248388650453\n"
     ]
    }
   ],
   "source": [
    "import random\n",
    "import math\n",
    "\n",
    "def psk(x, y):\n",
    "    return math.sqrt(x*x+y*y)\n",
    "\n",
    "for i in range(1,10):\n",
    "    x = random.random() * 10\n",
    "    y = random.random() * 10\n",
    "    print(psk(x, y))"
   ]
  },
  {
   "cell_type": "markdown",
   "id": "46a32eed-6fa2-416d-88cf-2cd20089154e",
   "metadata": {
    "tags": []
   },
   "source": [
    "## Zadanie 4"
   ]
  },
  {
   "cell_type": "markdown",
   "id": "66411e01-96b4-4a9e-bc49-7961ddad40b2",
   "metadata": {},
   "source": [
    "### Funkcje, które liczą potęgę 2 do n + (pętla while)."
   ]
  },
  {
   "cell_type": "code",
   "execution_count": 4,
   "id": "e051b9c0-4135-4ef0-988a-5cd4327e4142",
   "metadata": {},
   "outputs": [
    {
     "name": "stdout",
     "output_type": "stream",
     "text": [
      "Potęga 2 do 5  to:\n",
      "Math.pow:       32.0\n",
      "Iteracyjnie:    32.0\n",
      "Rekurencyjnie:  32\n",
      "\n",
      "Potęga 2 do 0  to:\n",
      "Math.pow:       1.0\n",
      "Iteracyjnie:    1.0\n",
      "Rekurencyjnie:  1\n",
      "\n",
      "Potęga 2 do -8  to:\n",
      "Math.pow:       0.00390625\n",
      "Iteracyjnie:    0.00390625\n",
      "Rekurencyjnie:  0.00390625\n",
      "\n"
     ]
    }
   ],
   "source": [
    "import math\n",
    "\n",
    "tab = [5, 0, -8]\n",
    "\n",
    "def potega_pow(n):\n",
    "    return math.pow(2,n)\n",
    "\n",
    "def potega_iteracyjnie(n):\n",
    "    sum = 1.0\n",
    "    if n > 0:\n",
    "        sum = 2.0\n",
    "        for i in range(1,n):\n",
    "            sum = sum * 2 \n",
    "    if n < 0:\n",
    "        sum = 1.0\n",
    "        for i in range(0,abs(n)):\n",
    "            sum = sum / 2\n",
    "    return sum\n",
    "\n",
    "def potega_rekurencyjnie(n):\n",
    "    if n == 0:\n",
    "        return 1\n",
    "    elif n > 0:\n",
    "        return 2 * potega_rekurencyjnie(n - 1)\n",
    "    else:  # n < 0\n",
    "        return 1 / (2 * potega_rekurencyjnie(-n - 1))\n",
    "\n",
    "# Wyniki\n",
    "j = 0\n",
    "while j < 3:\n",
    "    print('Potęga 2 do', tab[j], ' to:')\n",
    "    print('Math.pow:      ', potega_pow(tab[j]))\n",
    "    print('Iteracyjnie:   ', potega_iteracyjnie(tab[j]))\n",
    "    print('Rekurencyjnie: ', potega_rekurencyjnie(tab[j]))\n",
    "    print()\n",
    "    j += 1"
   ]
  },
  {
   "cell_type": "markdown",
   "id": "ab529c5a-a9a9-43e1-b542-ccab45e4d069",
   "metadata": {},
   "source": [
    "## Zadanie 5"
   ]
  },
  {
   "cell_type": "markdown",
   "id": "42514525-589f-4805-a1da-d575fe223f67",
   "metadata": {
    "tags": []
   },
   "source": [
    "### Funkcje, które zwracają tablice z liczbami parzystymi, z podanego przedziału <a, b>."
   ]
  },
  {
   "cell_type": "code",
   "execution_count": 5,
   "id": "d3825167-9f24-4307-bc83-6ffbea3e9367",
   "metadata": {},
   "outputs": [
    {
     "name": "stdout",
     "output_type": "stream",
     "text": [
      "Iteracyjnie:   [2, 4, 6, 8]\n",
      "Rekurencyjnie: [2, 4, 6, 8]\n"
     ]
    }
   ],
   "source": [
    "def parzyste_iteracyjnie(a, b):\n",
    "    liczby_parzyste = []\n",
    "    for liczba in range(a, b+1):\n",
    "        if liczba % 2 == 0:\n",
    "            liczby_parzyste.append(liczba)\n",
    "    return liczby_parzyste\n",
    "\n",
    "def parzyste_rekurencyjnie(a, b):\n",
    "    if a > b:\n",
    "        return []\n",
    "    elif a % 2 != 0:\n",
    "        return parzyste_reku(a+1, b)\n",
    "    else:\n",
    "        return [a] + parzyste_rekurencyjnie(a+2, b)\n",
    "            \n",
    "# Wyniki\n",
    "a = 2\n",
    "b = 9\n",
    "print(\"Iteracyjnie:  \", parzyste_iteracyjnie(a, b))\n",
    "print(\"Rekurencyjnie:\", parzyste_rekurencyjnie(a, b))"
   ]
  },
  {
   "cell_type": "markdown",
   "id": "2ed2f69a-6522-4318-82d5-2dca77f89d24",
   "metadata": {},
   "source": [
    "## Zadanie 6"
   ]
  },
  {
   "cell_type": "markdown",
   "id": "ec6621f9-dbd9-4734-a947-dc8e2892dd8d",
   "metadata": {},
   "source": [
    "### Funkcje, które liczą sumę kolejnych liczb naturalnych od 0 do n."
   ]
  },
  {
   "cell_type": "code",
   "execution_count": 6,
   "id": "163c56f3-e3f3-41fd-9980-d5f7b586aeee",
   "metadata": {},
   "outputs": [
    {
     "name": "stdout",
     "output_type": "stream",
     "text": [
      "Suma iteracyjna dla n = 5 to: 15\n",
      "Suma rekurencyjna dla n = 5 to: 15\n"
     ]
    }
   ],
   "source": [
    "def suma_iteracyjnie(n):\n",
    "    suma = 0\n",
    "    for i in range(n+1): # od 0 do n\n",
    "        suma += i\n",
    "    return suma\n",
    "\n",
    "def suma_rekurencyjnie(n):\n",
    "    if n == 1:\n",
    "        return 1\n",
    "    else:\n",
    "        return n + suma_rekurencyjnie(n - 1)\n",
    "        \n",
    "# Wyniki\n",
    "n = 5\n",
    "print(\"Suma iteracyjna dla n =\", n, \"to:\", suma_iteracyjnie(n))\n",
    "print(\"Suma rekurencyjna dla n =\", n, \"to:\", suma_rekurencyjnie(n))"
   ]
  },
  {
   "cell_type": "markdown",
   "id": "208f7c87-c1d7-4679-9cfe-135c820c643a",
   "metadata": {},
   "source": [
    "## Zadanie 7"
   ]
  },
  {
   "cell_type": "markdown",
   "id": "9191c67a-d239-4520-9c77-604f71bc17e5",
   "metadata": {},
   "source": [
    "### Funkcje, które odwracają ciąg znaków (podany tekst)"
   ]
  },
  {
   "cell_type": "code",
   "execution_count": 7,
   "id": "a62201ea-fe3e-4779-8ee6-4ab9a002748d",
   "metadata": {},
   "outputs": [
    {
     "name": "stdout",
     "output_type": "stream",
     "text": [
      "Odwrocony ciag znakow (iteracyjnie): avaj\n",
      "Odwrocony ciag znakow (rekurencyjnie): avaj\n"
     ]
    }
   ],
   "source": [
    "def odwroc_iteracyjnie(tekst):\n",
    "    odwrocony_tekst = \"\"\n",
    "    for i in range(len(tekst) - 1, -1, -1):   # range(ostatni znak tekstu, do -1, z przeskokiem -1)\n",
    "        odwrocony_tekst += tekst[i]\n",
    "    return odwrocony_tekst\n",
    "\n",
    "def odwroc_rekurencyjnie(tekst):\n",
    "    if len(tekst) == 0:\n",
    "        return \"\"\n",
    "    else:\n",
    "        return tekst[-1] + odwroc_rekurencyjnie(tekst[:-1])  # tekst[:-1] = tekst krótszy o ostatni znak\n",
    "\n",
    "# Wyniki\n",
    "ciag_znakow = \"java\"\n",
    "print(\"Odwrocony ciag znakow (iteracyjnie):\", odwroc_iteracyjnie(ciag_znakow))\n",
    "print(\"Odwrocony ciag znakow (rekurencyjnie):\", odwroc_rekurencyjnie(ciag_znakow))"
   ]
  },
  {
   "cell_type": "markdown",
   "id": "a9c02bef-d540-47e0-bdb9-972c96ff1816",
   "metadata": {},
   "source": [
    "## Zadanie 8"
   ]
  },
  {
   "cell_type": "markdown",
   "id": "2ebd3077-30bd-4ea2-9da8-84fd64d881c5",
   "metadata": {},
   "source": [
    "### Funkcje do szyfrowania i deszyfrowania tekstu szyfrem Cezara."
   ]
  },
  {
   "cell_type": "code",
   "execution_count": 9,
   "id": "0f3a1d93-3bca-4ca0-be75-f2eaadf04dba",
   "metadata": {},
   "outputs": [
    {
     "name": "stdout",
     "output_type": "stream",
     "text": [
      "Tekst oryginalny: Hello, World!\n",
      "Zaszyfrowany tekst (iteracyjnie): Khoor, Zruog!\n",
      "Odszyfrowany tekst (iteracyjnie): Hello, World!\n",
      "Zaszyfrowany tekst (rekurencyjnie): Khoor, Zruog!\n",
      "Odszyfrowany tekst (rekurencyjnie): Hello, World!\n"
     ]
    }
   ],
   "source": [
    "def szyfruj_iteracyjnie(tekst, klucz):\n",
    "    zaszyfrowany_tekst = \"\"\n",
    "    for znak in tekst:\n",
    "        if znak.isalpha():\n",
    "            if znak.isupper():\n",
    "                zaszyfrowany_tekst += chr((ord(znak) - ord('A') + klucz) % 26 + ord('A'))\n",
    "            else:\n",
    "                zaszyfrowany_tekst += chr((ord(znak) - ord('a') + klucz) % 26 + ord('a'))\n",
    "        else:\n",
    "            zaszyfrowany_tekst += znak\n",
    "    return zaszyfrowany_tekst\n",
    "\n",
    "def deszyfruj_iteracyjnie(tekst, klucz):\n",
    "    odszyfrowany_tekst = \"\"\n",
    "    for znak in tekst:\n",
    "        if znak.isalpha():\n",
    "            if znak.isupper():\n",
    "                odszyfrowany_tekst += chr((ord(znak) - ord('A') - klucz) % 26 + ord('A'))\n",
    "            else:\n",
    "                odszyfrowany_tekst += chr((ord(znak) - ord('a') - klucz) % 26 + ord('a'))\n",
    "        else:\n",
    "            odszyfrowany_tekst += znak\n",
    "    return odszyfrowany_tekst\n",
    "\n",
    "def szyfruj_rekurencyjnie(tekst, klucz):\n",
    "    if len(tekst) == 0:\n",
    "        return \"\"\n",
    "    else:\n",
    "        znak = tekst[0]\n",
    "        if znak.isalpha():\n",
    "            if znak.isupper():\n",
    "                zaszyfrowany_znak = chr((ord(znak) - ord('A') + klucz) % 26 + ord('A'))\n",
    "            else:\n",
    "                zaszyfrowany_znak = chr((ord(znak) - ord('a') + klucz) % 26 + ord('a'))\n",
    "        else:\n",
    "            zaszyfrowany_znak = znak\n",
    "        return zaszyfrowany_znak + szyfruj_rekurencyjnie(tekst[1:], klucz)\n",
    "\n",
    "def deszyfruj_rekurencyjnie(tekst, klucz):\n",
    "    if len(tekst) == 0:\n",
    "        return \"\"\n",
    "    else:\n",
    "        znak = tekst[0]\n",
    "        if znak.isalpha():\n",
    "            if znak.isupper():\n",
    "                odszyfrowany_znak = chr((ord(znak) - ord('A') - klucz) % 26 + ord('A'))\n",
    "            else:\n",
    "                odszyfrowany_znak = chr((ord(znak) - ord('a') - klucz) % 26 + ord('a'))\n",
    "        else:\n",
    "            odszyfrowany_znak = znak\n",
    "        return odszyfrowany_znak + deszyfruj_rekurencyjnie(tekst[1:], klucz)\n",
    "\n",
    "# Wyniki\n",
    "tekst = \"Hello, World!\"\n",
    "klucz = 3\n",
    "\n",
    "zaszyfrowany_tekst_iteracyjnie = szyfruj_iteracyjnie(tekst, klucz)\n",
    "odszyfrowany_tekst_iteracyjnie = deszyfruj_iteracyjnie(zaszyfrowany_tekst_iteracyjnie, klucz)\n",
    "\n",
    "zaszyfrowany_tekst_rekurencyjnie = szyfruj_rekurencyjnie(tekst, klucz)\n",
    "odszyfrowany_tekst_rekurencyjnie = deszyfruj_rekurencyjnie(zaszyfrowany_tekst_rekurencyjnie, klucz)\n",
    "\n",
    "print(\"Tekst oryginalny:\", tekst)\n",
    "print(\"Zaszyfrowany tekst (iteracyjnie):\", zaszyfrowany_tekst_iteracyjnie)\n",
    "print(\"Odszyfrowany tekst (iteracyjnie):\", odszyfrowany_tekst_iteracyjnie)\n",
    "print(\"Zaszyfrowany tekst (rekurencyjnie):\", zaszyfrowany_tekst_rekurencyjnie)\n",
    "print(\"Odszyfrowany tekst (rekurencyjnie):\", odszyfrowany_tekst_rekurencyjnie)"
   ]
  }
 ],
 "metadata": {
  "kernelspec": {
   "display_name": "Python 3 (ipykernel)",
   "language": "python",
   "name": "python3"
  },
  "language_info": {
   "codemirror_mode": {
    "name": "ipython",
    "version": 3
   },
   "file_extension": ".py",
   "mimetype": "text/x-python",
   "name": "python",
   "nbconvert_exporter": "python",
   "pygments_lexer": "ipython3",
   "version": "3.9.2"
  }
 },
 "nbformat": 4,
 "nbformat_minor": 5
}
