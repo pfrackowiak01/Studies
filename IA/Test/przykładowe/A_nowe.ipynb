{
 "cells": [
  {
   "attachments": {},
   "cell_type": "markdown",
   "id": "1033469f-b8ee-4d65-bb23-fe00c8758d61",
   "metadata": {},
   "source": [
    "#### Import"
   ]
  },
  {
   "cell_type": "code",
   "execution_count": 54,
   "id": "6c9ab20c-acc6-4c63-bd57-4cfe8edfaf7c",
   "metadata": {},
   "outputs": [
    {
     "name": "stdout",
     "output_type": "stream",
     "text": [
      "32593\n"
     ]
    }
   ],
   "source": [
    "from Student import Student, czytaj, ileElementow\n",
    "from statistics import mean\n",
    "from itertools import islice\n",
    "from itertools import groupby\n",
    "\n",
    "lista_osob = czytaj()\n",
    "\n",
    "print(ileElementow(czytaj()))"
   ]
  },
  {
   "attachments": {},
   "cell_type": "markdown",
   "id": "3b79712c-2dff-474f-9068-e8d27c1e4a89",
   "metadata": {},
   "source": [
    "### Zadanie A (strumienie i kolekcje Python)"
   ]
  },
  {
   "attachments": {},
   "cell_type": "markdown",
   "id": "8db294e7-9a0f-4915-98eb-b4ae8d912ed3",
   "metadata": {
    "tags": []
   },
   "source": [
    "#### 1. Dane z kodem zaczynającym się od E."
   ]
  },
  {
   "cell_type": "code",
   "execution_count": 5,
   "id": "833ed236-b405-45d4-98a7-50af27fb38e7",
   "metadata": {},
   "outputs": [
    {
     "name": "stdout",
     "output_type": "stream",
     "text": [
      "Lista osób, których imię rozpoczyna się na E:\n",
      "{'kod': 'EEE', 'id': '26915', 'plec': 'M', 'region': 'Wales', 'wyksztalcenie': 'Lower Than A Level', 'wiek': 44, 'prob': 0, 'punktow': 30, 'zaliczenie': 'Fail'}\n",
      "{'kod': 'EEE', 'id': '32553', 'plec': 'M', 'region': 'North Western Region', 'wyksztalcenie': 'A Level or Equivalent', 'wiek': 23, 'prob': 0, 'punktow': 60, 'zaliczenie': 'Withdrawn'}\n",
      "{'kod': 'EEE', 'id': '35355', 'plec': 'M', 'region': 'Wales', 'wyksztalcenie': 'Lower Than A Level', 'wiek': 51, 'prob': 0, 'punktow': 30, 'zaliczenie': 'Pass'}\n",
      "{'kod': 'EEE', 'id': '40508', 'plec': 'M', 'region': 'West Midlands Region', 'wyksztalcenie': 'A Level or Equivalent', 'wiek': 41, 'prob': 0, 'punktow': 90, 'zaliczenie': 'Withdrawn'}\n",
      "{'kod': 'EEE', 'id': '42638', 'plec': 'M', 'region': 'Scotland', 'wyksztalcenie': 'HE Qualification', 'wiek': 50, 'prob': 0, 'punktow': 60, 'zaliczenie': 'Pass'}\n"
     ]
    }
   ],
   "source": [
    "print(\"Lista osób, których imię rozpoczyna się na E:\")\n",
    "for osoba in islice(filter(lambda osoba: osoba.kod.startswith(\"E\"), lista_osob), 5):\n",
    "    print(osoba)"
   ]
  },
  {
   "attachments": {},
   "cell_type": "markdown",
   "id": "f76d9311-65ac-448a-934b-bebc6f661aa6",
   "metadata": {},
   "source": [
    "#### 2. Liczbę osób, które próbowały zdać wcześniej jeden raz (z jedną próbą)."
   ]
  },
  {
   "cell_type": "code",
   "execution_count": 6,
   "id": "5e7826b3-9fc3-4ed0-aa66-bb6f4817e5c6",
   "metadata": {},
   "outputs": [
    {
     "name": "stdout",
     "output_type": "stream",
     "text": [
      "Liczba osób, które próbowały zdać z JEDNĄ próbą: 3299\n"
     ]
    }
   ],
   "source": [
    "lista_osob = czytaj()\n",
    "print(\"Liczba osób, które próbowały zdać z JEDNĄ próbą:\", len(list(filter(lambda osoba: osoba.prob == 1, lista_osob))))"
   ]
  },
  {
   "attachments": {},
   "cell_type": "markdown",
   "id": "e623e4ea-da3a-4425-93d9-51821b273fcb",
   "metadata": {},
   "source": [
    "#### 3. Liczbę osób w wieku 25-35 lat."
   ]
  },
  {
   "cell_type": "code",
   "execution_count": 25,
   "id": "a9e19161-2acf-4d94-b26d-13d9da872c88",
   "metadata": {},
   "outputs": [
    {
     "name": "stdout",
     "output_type": "stream",
     "text": [
      "Liczba osób, w wieku 25-35 lat: 11808\n"
     ]
    }
   ],
   "source": [
    "lista_osob = czytaj()\n",
    "print(\"Liczba osób, w wieku 25-35 lat:\", len(list(filter(lambda osoba: osoba.wiek >= 25 and osoba.wiek <= 35, lista_osob))))"
   ]
  },
  {
   "attachments": {},
   "cell_type": "markdown",
   "id": "c11ac379-2668-4caf-84d4-526d08233772",
   "metadata": {},
   "source": [
    "#### 4. Listę nazw wszystkich regionów występujących w zestawieniu (bez powtórzeń)."
   ]
  },
  {
   "cell_type": "code",
   "execution_count": 55,
   "id": "f5dae712-4b8b-4d57-9e79-1fc885aa17ba",
   "metadata": {},
   "outputs": [
    {
     "name": "stdout",
     "output_type": "stream",
     "text": [
      "Lista nazw wszystkich regionów (bez powtórzeń):\n",
      "East Anglian Region\n",
      "East Midlands Region\n",
      "Ireland\n",
      "London Region\n",
      "North Region\n",
      "North Western Region\n",
      "Scotland\n",
      "South East Region\n",
      "South Region\n",
      "South West Region\n",
      "Wales\n",
      "West Midlands Region\n",
      "Yorkshire Region\n"
     ]
    }
   ],
   "source": [
    "lista_osob = czytaj()\n",
    "print(\"Lista nazw wszystkich regionów (bez powtórzeń):\")\n",
    "for region in sorted(list(set(osoba.region for osoba in lista_osob))):\n",
    "    print(region)"
   ]
  },
  {
   "attachments": {},
   "cell_type": "markdown",
   "id": "3703e5ca-8e0f-4134-8197-ad6e047de635",
   "metadata": {},
   "source": [
    "#### 5. Liczbę osób każdej z płci."
   ]
  },
  {
   "cell_type": "code",
   "execution_count": 70,
   "id": "66ee3373-9fdb-4b3c-861c-b52dadaa60a2",
   "metadata": {},
   "outputs": [
    {
     "name": "stdout",
     "output_type": "stream",
     "text": [
      "Liczba osób, które wzięły udział w spisie z podziałem na kobiety i mężczyzn:\n",
      "F: 14718\n",
      "M: 17875\n",
      "Liczba mężczyzn: 17875\n",
      "Liczba kobiet: 14718\n",
      "('F', 14718)\n",
      "('M', 17875)\n"
     ]
    }
   ],
   "source": [
    "print(\"Liczba osób, które wzięły udział w spisie z podziałem na kobiety i mężczyzn:\")\n",
    "liczba_osob_km = {\"F\": 0, \"M\": 0}  # tworzymy słownik\n",
    "\n",
    "osoby_plec = czytaj()  # Wczytaj dane z pliku \"data.data\"\n",
    "\n",
    "for osoba in osoby_plec:\n",
    "    plec = osoba.plec\n",
    "    liczba_osob_km[plec] += 1\n",
    "        \n",
    "for plec, osoby_plec in liczba_osob_km.items():\n",
    "    print(f\"{plec}: {osoby_plec}\")\n",
    "    \n",
    "# LUB DRUGI SPOSÓB:\n",
    "lista_mezczyzn = czytaj()\n",
    "print(\"Liczba mężczyzn:\", len(list(filter(lambda osoba: osoba.plec == \"M\", lista_mezczyzn))))\n",
    "lista_kobiet = czytaj()\n",
    "print(\"Liczba kobiet:\", len(list(filter(lambda osoba: osoba.plec == \"F\", lista_kobiet))))\n",
    "\n",
    "# LUB TRZECI SPOSÓB:\n",
    "osoby_plec = czytaj()\n",
    "for kod in [(key, len(list(osoby))) for key, osoby in groupby(sorted(list(map(lambda os: os.plec, osoby_plec))))]:\n",
    "    print(kod)"
   ]
  },
  {
   "attachments": {},
   "cell_type": "markdown",
   "id": "6cfc72cc-e342-43b5-ac0b-e77db8334ee4",
   "metadata": {},
   "source": [
    "#### 6. Średni wiek osób z Walii (Wales)"
   ]
  },
  {
   "cell_type": "code",
   "execution_count": 26,
   "id": "3ad650c8-9400-40e9-946f-aaae905f388d",
   "metadata": {},
   "outputs": [
    {
     "name": "stdout",
     "output_type": "stream",
     "text": [
      "Średni wiek osób z Walii: 30.748322147651006 \n",
      "\n",
      "Średni wiek osób z Walii: 30.748322147651006\n"
     ]
    }
   ],
   "source": [
    "lista_osob = czytaj()\n",
    "wieki_wales = [osoba.wiek for osoba in lista_osob if osoba.region == \"Wales\"]\n",
    "print(\"Średni wiek osób z Walii:\", mean(wieki_wales), \"\\n\")\n",
    "\n",
    "# LUB DRUGI SPOSÓB:\n",
    "lista_osob = czytaj()\n",
    "print(\"Średni wiek osób z Walii:\", mean(list(map(lambda os : os.wiek, filter(lambda os : os.region == \"Wales\", lista_osob)))))"
   ]
  },
  {
   "attachments": {},
   "cell_type": "markdown",
   "id": "820b3bdd-a718-4650-b906-6a152552a274",
   "metadata": {},
   "source": [
    "#### 7. Wiek najstarszego mężczyzny który zdał"
   ]
  },
  {
   "cell_type": "code",
   "execution_count": 38,
   "id": "8ec82734-f9d5-4aae-bd43-8dc32f58093e",
   "metadata": {},
   "outputs": [
    {
     "name": "stdout",
     "output_type": "stream",
     "text": [
      "Wiek najstarszej osoby: 74 \n",
      "\n"
     ]
    }
   ],
   "source": [
    "lista_osob = czytaj()\n",
    "najstarsza_osoba = max(lista_osob, key=lambda osoba: osoba.wiek)\n",
    "print(\"Wiek najstarszej osoby:\", najstarsza_osoba.wiek,\"\\n\")"
   ]
  },
  {
   "attachments": {},
   "cell_type": "markdown",
   "id": "cb1b97a1-64bc-457a-9672-f2ce3af62712",
   "metadata": {},
   "source": [
    "#### 8. Listę osób z regionu Londynu (London Region), które oblały dla każdej liczby punktów."
   ]
  },
  {
   "cell_type": "code",
   "execution_count": 36,
   "id": "aa91bf29-72cc-46b6-b8de-44ff0fbcf222",
   "metadata": {},
   "outputs": [
    {
     "name": "stdout",
     "output_type": "stream",
     "text": [
      "{'kod': 'AAA', 'id': '102952', 'plec': 'M', 'region': 'London Region', 'wyksztalcenie': 'HE Qualification', 'wiek': 15, 'prob': 0, 'punktow': 60, 'zaliczenie': 'Pass'}\n",
      "{'kod': 'AAA', 'id': '151358', 'plec': 'F', 'region': 'London Region', 'wyksztalcenie': 'A Level or Equivalent', 'wiek': 23, 'prob': 0, 'punktow': 150, 'zaliczenie': 'Pass'}\n",
      "{'kod': 'AAA', 'id': '155550', 'plec': 'M', 'region': 'London Region', 'wyksztalcenie': 'A Level or Equivalent', 'wiek': 48, 'prob': 0, 'punktow': 420, 'zaliczenie': 'Pass'}\n",
      "{'kod': 'AAA', 'id': '183947', 'plec': 'M', 'region': 'London Region', 'wyksztalcenie': 'A Level or Equivalent', 'wiek': 18, 'prob': 0, 'punktow': 180, 'zaliczenie': 'Pass'}\n",
      "{'kod': 'AAA', 'id': '200860', 'plec': 'M', 'region': 'London Region', 'wyksztalcenie': 'Lower Than A Level', 'wiek': 53, 'prob': 0, 'punktow': 60, 'zaliczenie': 'Pass'}\n"
     ]
    }
   ],
   "source": [
    "lista_osob = czytaj()\n",
    "for osoba in islice(list(filter(lambda osoba: osoba.region == \"London Region\" and osoba.zaliczenie == \"Pass\", lista_osob)),5):\n",
    "    print(osoba)"
   ]
  },
  {
   "attachments": {},
   "cell_type": "markdown",
   "id": "0102db77-4c71-45c6-b1d4-0015eb000dbf",
   "metadata": {},
   "source": [
    "#### 9. Dane osób, które otrzymały mniej niż 50 punktów."
   ]
  },
  {
   "cell_type": "code",
   "execution_count": 43,
   "id": "bffaeccd-6e4c-485a-9d7c-38dba9c3579c",
   "metadata": {},
   "outputs": [
    {
     "name": "stdout",
     "output_type": "stream",
     "text": [
      "{'kod': 'CCC', 'id': '28418', 'plec': 'F', 'region': 'West Midlands Region', 'wyksztalcenie': 'A Level or Equivalent', 'wiek': 22, 'prob': 0, 'punktow': 30, 'zaliczenie': 'Fail'}\n",
      "{'kod': 'CCC', 'id': '40333', 'plec': 'M', 'region': 'North Region', 'wyksztalcenie': 'HE Qualification', 'wiek': 44, 'prob': 0, 'punktow': 30, 'zaliczenie': 'Withdrawn'}\n",
      "{'kod': 'CCC', 'id': '40604', 'plec': 'M', 'region': 'Ireland', 'wyksztalcenie': 'A Level or Equivalent', 'wiek': 49, 'prob': 0, 'punktow': 30, 'zaliczenie': 'Pass'}\n",
      "{'kod': 'CCC', 'id': '59541', 'plec': 'M', 'region': 'East Anglian Region', 'wyksztalcenie': 'A Level or Equivalent', 'wiek': 25, 'prob': 0, 'punktow': 30, 'zaliczenie': 'Withdrawn'}\n",
      "{'kod': 'CCC', 'id': '62278', 'plec': 'M', 'region': 'West Midlands Region', 'wyksztalcenie': 'A Level or Equivalent', 'wiek': 22, 'prob': 0, 'punktow': 40, 'zaliczenie': 'Fail'}\n"
     ]
    }
   ],
   "source": [
    "osoby = czytaj()\n",
    "for osoba in islice(list(filter(lambda os : os.punktow < 50, osoby)),5):\n",
    "    print(osoba)\n"
   ]
  },
  {
   "attachments": {},
   "cell_type": "markdown",
   "id": "92f05d58-59d5-4415-ac32-71ff083f5f68",
   "metadata": {
    "tags": []
   },
   "source": [
    "#### 10. Liczbę osób w wieku do 23 lat z South Region."
   ]
  },
  {
   "cell_type": "code",
   "execution_count": 48,
   "id": "ddc25142-5d04-4d8d-a362-83d84a45a88b",
   "metadata": {},
   "outputs": [
    {
     "data": {
      "text/plain": [
       "850"
      ]
     },
     "execution_count": 48,
     "metadata": {},
     "output_type": "execute_result"
    }
   ],
   "source": [
    "osoby = czytaj()\n",
    "len(list(filter(lambda os: os.wiek < 23 and os.region == \"South Region\", osoby)))"
   ]
  },
  {
   "attachments": {},
   "cell_type": "markdown",
   "id": "250604b9-f4ef-4481-9004-3c7afcaa451f",
   "metadata": {},
   "source": [
    "#### 11. Listę wszystkie rodzajów wykształcenia występujących w danych (HE Qualification, Lower Than A Level itd.) (bez powtórzeń)"
   ]
  },
  {
   "cell_type": "code",
   "execution_count": 49,
   "id": "814bc6fe-ff20-434d-b60c-7ccaf285b3bd",
   "metadata": {},
   "outputs": [
    {
     "name": "stdout",
     "output_type": "stream",
     "text": [
      "A Level or Equivalent\n",
      "HE Qualification\n",
      "Lower Than A Level\n",
      "No Formal quals\n",
      "Post Graduate Qualification\n"
     ]
    }
   ],
   "source": [
    "lista_osob = czytaj()\n",
    "for wyksztalcenie in sorted(list(set(osoba.wyksztalcenie for osoba in lista_osob))):\n",
    "    print(wyksztalcenie)"
   ]
  },
  {
   "attachments": {},
   "cell_type": "markdown",
   "id": "c2b10047-7443-4cad-9209-0bcdab7d543a",
   "metadata": {},
   "source": [
    "#### 12. Liczbę osób dla każdego kodu"
   ]
  },
  {
   "cell_type": "code",
   "execution_count": 57,
   "id": "d1a54b67-cd46-4bf2-8e7d-5763fda416b2",
   "metadata": {},
   "outputs": [
    {
     "name": "stdout",
     "output_type": "stream",
     "text": [
      "('AAA', 748)\n",
      "('BBB', 7909)\n",
      "('CCC', 4434)\n",
      "('DDD', 6272)\n",
      "('EEE', 2934)\n",
      "('FFF', 7762)\n",
      "('GGG', 2534)\n"
     ]
    }
   ],
   "source": [
    "osoby = czytaj()\n",
    "for kod in [(key, len(list(osoby))) for key, osoby in groupby(sorted(list(map(lambda os: os.kod, osoby))))]:\n",
    "    print(kod)"
   ]
  },
  {
   "attachments": {},
   "cell_type": "markdown",
   "id": "20b95cb1-b654-492b-8c0f-22929442a712",
   "metadata": {},
   "source": [
    "#### 13. Średnią liczbę punktów osób które zdały"
   ]
  },
  {
   "cell_type": "code",
   "execution_count": 60,
   "id": "ef553b92-b6e8-4a90-bd8f-dc4faf012b7c",
   "metadata": {},
   "outputs": [
    {
     "data": {
      "text/plain": [
       "74.2209368174096"
      ]
     },
     "execution_count": 60,
     "metadata": {},
     "output_type": "execute_result"
    }
   ],
   "source": [
    "osoby = czytaj()\n",
    "mean(list(map(lambda os: os.punktow, filter(lambda os: os.zaliczenie == \"Pass\", osoby))))"
   ]
  },
  {
   "attachments": {},
   "cell_type": "markdown",
   "id": "95e94982-6451-42e9-a7b8-aff422943ecc",
   "metadata": {},
   "source": [
    "#### 14. Najmniejszą liczbę prób dla osób ze Szkocji (rejon Scotland)"
   ]
  },
  {
   "cell_type": "code",
   "execution_count": 66,
   "id": "909dc68c-263c-4ccc-92dd-32fb4140be34",
   "metadata": {},
   "outputs": [
    {
     "data": {
      "text/plain": [
       "0"
      ]
     },
     "execution_count": 66,
     "metadata": {},
     "output_type": "execute_result"
    }
   ],
   "source": [
    "osoby = czytaj()\n",
    "# Wypisuje konkretną osobę z najmniejszą ilością prób\n",
    "#min(list(filter(lambda os: os.region == \"Scotland\", osoby)),key=lambda osoba: osoba.prob)\n",
    "\n",
    "# Wypisuje njmniejszą ilość prób\n",
    "min(list(map(lambda osoba: osoba.prob, filter(lambda x : x.region == \"Scotland\", osoby))))"
   ]
  },
  {
   "attachments": {},
   "cell_type": "markdown",
   "id": "111dcae0-ed21-46b2-a9e3-e4e2873c9d67",
   "metadata": {},
   "source": [
    "#### 15. Liczbę osób w wieku powyżej 40 lat które zdawały co najmniej raz wcześniej dla każdego regionu."
   ]
  },
  {
   "cell_type": "code",
   "execution_count": 67,
   "id": "11a87c36-9b1f-4363-96b4-8323da5deec2",
   "metadata": {},
   "outputs": [
    {
     "name": "stdout",
     "output_type": "stream",
     "text": [
      "('East Anglian Region', 3340)\n",
      "('East Midlands Region', 2365)\n",
      "('Ireland', 1184)\n",
      "('London Region', 3216)\n",
      "('North Region', 1823)\n",
      "('North Western Region', 2906)\n",
      "('Scotland', 3446)\n",
      "('South East Region', 2111)\n",
      "('South Region', 3092)\n",
      "('South West Region', 2436)\n",
      "('Wales', 2086)\n",
      "('West Midlands Region', 2582)\n",
      "('Yorkshire Region', 2006)\n"
     ]
    }
   ],
   "source": [
    "lista_osob = czytaj()\n",
    "for kod in [(key, len(list(osoby))) for key, osoby in groupby(sorted(list(map(lambda os: os.region, filter(lambda x : x.wiek > 40 and x.prob >=1, lista_osob)))))]:\n",
    "    print(kod)"
   ]
  }
 ],
 "metadata": {
  "kernelspec": {
   "display_name": "Python 3 (ipykernel)",
   "language": "python",
   "name": "python3"
  },
  "language_info": {
   "codemirror_mode": {
    "name": "ipython",
    "version": 3
   },
   "file_extension": ".py",
   "mimetype": "text/x-python",
   "name": "python",
   "nbconvert_exporter": "python",
   "pygments_lexer": "ipython3",
   "version": "3.9.2"
  }
 },
 "nbformat": 4,
 "nbformat_minor": 5
}
