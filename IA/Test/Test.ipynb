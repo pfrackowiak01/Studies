{
 "cells": [
  {
   "cell_type": "markdown",
   "id": "328a7d15-ec84-40d6-82d4-6293d00982c4",
   "metadata": {
    "jp-MarkdownHeadingCollapsed": true,
    "tags": []
   },
   "source": [
    "#### importy + Spark"
   ]
  },
  {
   "cell_type": "code",
   "execution_count": 1,
   "id": "39a5c390-0ec9-4fc0-b222-f5683bd5b897",
   "metadata": {},
   "outputs": [
    {
     "name": "stderr",
     "output_type": "stream",
     "text": [
      "WARNING: An illegal reflective access operation has occurred\n",
      "WARNING: Illegal reflective access by org.apache.spark.unsafe.Platform (file:/opt/spark/jars/spark-unsafe_2.12-3.1.3.jar) to constructor java.nio.DirectByteBuffer(long,int)\n",
      "WARNING: Please consider reporting this to the maintainers of org.apache.spark.unsafe.Platform\n",
      "WARNING: Use --illegal-access=warn to enable warnings of further illegal reflective access operations\n",
      "WARNING: All illegal access operations will be denied in a future release\n",
      "23/05/22 06:27:20 WARN NativeCodeLoader: Unable to load native-hadoop library for your platform... using builtin-java classes where applicable\n",
      "Using Spark's default log4j profile: org/apache/spark/log4j-defaults.properties\n",
      "Setting default log level to \"WARN\".\n",
      "To adjust logging level use sc.setLogLevel(newLevel). For SparkR, use setLogLevel(newLevel).\n",
      "23/05/22 06:27:22 WARN Utils: Service 'SparkUI' could not bind on port 4040. Attempting port 4041.\n",
      "23/05/22 06:27:22 WARN Utils: Service 'SparkUI' could not bind on port 4041. Attempting port 4042.\n",
      "23/05/22 06:27:22 WARN Utils: Service 'SparkUI' could not bind on port 4042. Attempting port 4043.\n",
      "23/05/22 06:27:22 WARN Utils: Service 'SparkUI' could not bind on port 4043. Attempting port 4044.\n",
      "23/05/22 06:27:22 WARN Utils: Service 'SparkUI' could not bind on port 4044. Attempting port 4045.\n",
      "23/05/22 06:27:22 WARN Utils: Service 'SparkUI' could not bind on port 4045. Attempting port 4046.\n"
     ]
    },
    {
     "name": "stdout",
     "output_type": "stream",
     "text": [
      "3.1.3\n"
     ]
    }
   ],
   "source": [
    "import math\n",
    "import random\n",
    "from functools import reduce\n",
    "import findspark\n",
    "findspark.init()\n",
    "import pyspark\n",
    "from pyspark.sql import SparkSession\n",
    "spark = SparkSession.builder.getOrCreate()\n",
    "print(spark.version)"
   ]
  },
  {
   "cell_type": "markdown",
   "id": "a3e46d5b-9a0f-4e79-8c6c-2efc4bac29e8",
   "metadata": {
    "tags": []
   },
   "source": [
    "#### Wczytywanie danych i klas"
   ]
  },
  {
   "cell_type": "code",
   "execution_count": null,
   "id": "018e2e90-c248-4ef2-a60a-a994213bc04a",
   "metadata": {},
   "outputs": [],
   "source": [
    "class Person:\n",
    "  def __init__(self, dane):\n",
    "    self.wiek = int(dane[0]);\n",
    "    self.formaZatrudnienia = dane[1];\n",
    "    self.wagaKontrolna = dane[2];\n",
    "    self.wyksztalcenie = dane[3];\n",
    "    self.wyksztalcenieLiczbowo = int( dane[4]);\n",
    "    self.stanCywilny = dane[5];\n",
    "    self.grupaZawodowa = dane[6];\n",
    "    self.relacjaRodzinna = dane[7];\n",
    "    self.rasa = dane[8];\n",
    "    self.plec = dane[9];\n",
    "    self.zysk = dane[10];\n",
    "    self.strata = dane[11];\n",
    "    self.godzinyTygodniowo = int( dane[12]);\n",
    "    self.kraj = dane[13];\n",
    "    self.klasaZysku = dane[14];\n",
    "    \n",
    "  def __str__(self):\n",
    "    return str(vars(self))\n",
    "\n",
    "  def __repr__(self):\n",
    "    return str(self.wiek) + \"...\"\n",
    " \n",
    "def czytaj():\n",
    "    for row in open(\"data.data\", \"r\"):\n",
    "        if( row.strip()):\n",
    "            yield Person( row.split(\", \"))\n",
    "        \n",
    "def ileElementow( gen):\n",
    "    return sum(1 for g in gen)\n",
    "\n",
    "osoby = czytaj()"
   ]
  },
  {
   "cell_type": "code",
   "execution_count": null,
   "id": "e680648f-ef96-4e23-b3b3-07c6a0859df7",
   "metadata": {},
   "outputs": [],
   "source": [
    "class Osoba:\n",
    "    def __init__(self, imie, nazwisko, wiek, miasto):\n",
    "        self.imie = imie\n",
    "        self.nazwisko = nazwisko\n",
    "        self.wiek = wiek\n",
    "        self.miasto = miasto\n",
    "    \n",
    "    def __str__(self):\n",
    "        return f\"Imię: {self.imie}, Nazwisko: {self.nazwisko}, Wiek: {self.wiek}, Miasto: {self.miasto}\"\n",
    "    \n",
    "    def __repr__(self):\n",
    "        return self.nazwisko\n",
    "\n",
    "lista_osob = []\n",
    "\n",
    "lista_osob.append(Osoba(\"Ola\", \"Kowalska\", 5, \"Gdynia\"))\n",
    "lista_osob.append(Osoba(\"Ela\", \"Śmigalsa\", 34, \"Lublin\"))\n",
    "lista_osob.append(Osoba(\"Hania\", \"Nowak\", 10, \"Warszawa\"))\n",
    "lista_osob.append(Osoba(\"Kacper\", \"Kwiatkowski\", 22, \"Kraków\"))\n",
    "lista_osob.append(Osoba(\"Kuba\", \"Malinowski\", 7, \"Gdańsk\"))\n",
    "lista_osob.append(Osoba(\"Dominik\", \"Noga\", 7, \"Wrocław\"))"
   ]
  },
  {
   "cell_type": "markdown",
   "id": "997d4c60-a081-4a5e-b9fb-4e97d7220c6e",
   "metadata": {
    "tags": []
   },
   "source": [
    "## Zadanie 1"
   ]
  },
  {
   "cell_type": "markdown",
   "id": "24c544c5-17e2-4ae4-b574-6cb7b36fef6a",
   "metadata": {
    "tags": []
   },
   "source": [
    "### Treść"
   ]
  },
  {
   "cell_type": "markdown",
   "id": "192b5ecd-1067-414f-8b8a-8649acbbe558",
   "metadata": {
    "tags": []
   },
   "source": [
    "#### Python:"
   ]
  },
  {
   "cell_type": "code",
   "execution_count": null,
   "id": "0451ba0c-2cc1-4b3b-bf72-fbbf6d7c33e6",
   "metadata": {},
   "outputs": [],
   "source": []
  },
  {
   "cell_type": "markdown",
   "id": "bb20cb92-17e5-4c2f-9009-c88f5426682c",
   "metadata": {
    "tags": []
   },
   "source": [
    "#### Spark:"
   ]
  },
  {
   "cell_type": "code",
   "execution_count": null,
   "id": "f23fecef-5c80-4213-becb-b6096ae71c2f",
   "metadata": {},
   "outputs": [],
   "source": []
  },
  {
   "cell_type": "markdown",
   "id": "27e49d7f-eb32-492e-810b-688a92558ced",
   "metadata": {
    "tags": []
   },
   "source": [
    "## Zadanie 2"
   ]
  },
  {
   "cell_type": "markdown",
   "id": "80e2c6f3-bde8-482d-9ff5-688d7c378c58",
   "metadata": {
    "tags": []
   },
   "source": [
    "### Treść"
   ]
  },
  {
   "cell_type": "markdown",
   "id": "d660c8dd-c887-4407-8e64-6fea99f801a4",
   "metadata": {
    "tags": []
   },
   "source": [
    "#### Python:"
   ]
  },
  {
   "cell_type": "code",
   "execution_count": null,
   "id": "c1e15710-7ec5-4b63-bcae-b703f4ac188a",
   "metadata": {},
   "outputs": [],
   "source": []
  },
  {
   "cell_type": "markdown",
   "id": "2c4972c2-dde0-4107-970f-e1917722798c",
   "metadata": {
    "tags": []
   },
   "source": [
    "#### Spark:"
   ]
  },
  {
   "cell_type": "code",
   "execution_count": null,
   "id": "6c45cf53-a964-4a14-8121-c25ff792b0ca",
   "metadata": {},
   "outputs": [],
   "source": []
  },
  {
   "cell_type": "markdown",
   "id": "c241774c-975c-4345-9f9a-eba47dd11182",
   "metadata": {
    "tags": []
   },
   "source": [
    "## Zadanie 3"
   ]
  },
  {
   "cell_type": "markdown",
   "id": "0912320f-f35f-4caf-a1bc-5b12194474ba",
   "metadata": {
    "tags": []
   },
   "source": [
    "### Treść"
   ]
  },
  {
   "cell_type": "markdown",
   "id": "1855a79c-7d45-4caa-a325-e279359b3622",
   "metadata": {
    "tags": []
   },
   "source": [
    "#### Python:"
   ]
  },
  {
   "cell_type": "code",
   "execution_count": null,
   "id": "31aad7fb-39ca-4ef1-a5ad-05e48948b268",
   "metadata": {},
   "outputs": [],
   "source": []
  },
  {
   "cell_type": "markdown",
   "id": "a9521652-1b8a-4114-ba04-686bda21d5e1",
   "metadata": {
    "tags": []
   },
   "source": [
    "#### Spark:"
   ]
  },
  {
   "cell_type": "code",
   "execution_count": null,
   "id": "e912be2b-1814-45df-a50a-97f5625a6ad4",
   "metadata": {},
   "outputs": [],
   "source": []
  },
  {
   "cell_type": "markdown",
   "id": "d61317f7-a57b-43e0-aca8-20ece6de58d0",
   "metadata": {
    "tags": []
   },
   "source": [
    "## Zadanie 4"
   ]
  },
  {
   "cell_type": "markdown",
   "id": "1500d3c3-0e24-4cbd-876f-d66f857ad966",
   "metadata": {
    "tags": []
   },
   "source": [
    "### Treść"
   ]
  },
  {
   "cell_type": "markdown",
   "id": "82429ef1-19bb-4228-b887-eaec508b9656",
   "metadata": {
    "tags": []
   },
   "source": [
    "#### Python:"
   ]
  },
  {
   "cell_type": "code",
   "execution_count": null,
   "id": "e22b6c83-8783-440a-b39e-3214fac248af",
   "metadata": {},
   "outputs": [],
   "source": []
  },
  {
   "cell_type": "markdown",
   "id": "8bef744b-a7d1-46b0-bebc-bc7404081103",
   "metadata": {
    "tags": []
   },
   "source": [
    "#### Spark:"
   ]
  },
  {
   "cell_type": "code",
   "execution_count": null,
   "id": "12ae0262-e964-4db0-8181-b5253312ee27",
   "metadata": {},
   "outputs": [],
   "source": []
  },
  {
   "cell_type": "markdown",
   "id": "37971bbe-618c-4781-affa-65532ce0663e",
   "metadata": {
    "tags": []
   },
   "source": [
    "## Zadanie 5"
   ]
  },
  {
   "cell_type": "markdown",
   "id": "86edf522-2a8e-45cf-a3ad-e602a5440fad",
   "metadata": {
    "tags": []
   },
   "source": [
    "### Treść"
   ]
  },
  {
   "cell_type": "markdown",
   "id": "05172163-f7ce-49b7-95f2-1e862e98ff1e",
   "metadata": {
    "tags": []
   },
   "source": [
    "#### Python:"
   ]
  },
  {
   "cell_type": "code",
   "execution_count": null,
   "id": "c3ca5bc0-3fb4-47af-a1da-aabd87a8f32f",
   "metadata": {},
   "outputs": [],
   "source": []
  },
  {
   "cell_type": "markdown",
   "id": "481b1825-9af2-4624-900a-96fc9e319113",
   "metadata": {
    "tags": []
   },
   "source": [
    "#### Spark:"
   ]
  },
  {
   "cell_type": "code",
   "execution_count": null,
   "id": "1dcd7077-ff5a-4f11-a16c-a3c565dd1502",
   "metadata": {},
   "outputs": [],
   "source": []
  },
  {
   "cell_type": "markdown",
   "id": "9e6e4fdc-290b-4d05-b430-96228292f7a0",
   "metadata": {
    "tags": []
   },
   "source": [
    "## Zadanie 6"
   ]
  },
  {
   "cell_type": "markdown",
   "id": "59c3419f-3951-4933-abfb-fbfea4d5a4dd",
   "metadata": {
    "tags": []
   },
   "source": [
    "### Treść"
   ]
  },
  {
   "cell_type": "markdown",
   "id": "9be6a219-926f-46fb-93df-1d31ba4f1e4b",
   "metadata": {
    "tags": []
   },
   "source": [
    "#### Python:"
   ]
  },
  {
   "cell_type": "code",
   "execution_count": null,
   "id": "c3e1a3d0-0c94-4ed7-b6d6-0829defca244",
   "metadata": {},
   "outputs": [],
   "source": []
  },
  {
   "cell_type": "markdown",
   "id": "24a08db0-df95-4414-8de4-db9a90773488",
   "metadata": {
    "tags": []
   },
   "source": [
    "#### Spark:"
   ]
  },
  {
   "cell_type": "code",
   "execution_count": null,
   "id": "413d3dbd-d298-4ec2-9e9d-12c38d8d966c",
   "metadata": {},
   "outputs": [],
   "source": []
  },
  {
   "cell_type": "markdown",
   "id": "5c1fbed5-4008-4c02-b131-c98c9f0c655a",
   "metadata": {
    "tags": []
   },
   "source": [
    "## Zadanie 7"
   ]
  },
  {
   "cell_type": "markdown",
   "id": "a74cb25c-0a7d-4ae1-9d5f-fc2a335ec386",
   "metadata": {
    "tags": []
   },
   "source": [
    "### Treść"
   ]
  },
  {
   "cell_type": "markdown",
   "id": "79c42144-e630-4b73-a030-121fb05eae9e",
   "metadata": {
    "tags": []
   },
   "source": [
    "#### Python:"
   ]
  },
  {
   "cell_type": "code",
   "execution_count": null,
   "id": "de72d4ab-86b4-4f0a-954d-fc1aeb50e759",
   "metadata": {},
   "outputs": [],
   "source": []
  },
  {
   "cell_type": "markdown",
   "id": "b4df24f4-620e-4a5d-9213-9a3ad460df03",
   "metadata": {
    "tags": []
   },
   "source": [
    "#### Spark:"
   ]
  },
  {
   "cell_type": "code",
   "execution_count": null,
   "id": "dd1937c8-b373-44ae-9aa8-39f45e592d20",
   "metadata": {},
   "outputs": [],
   "source": []
  },
  {
   "cell_type": "markdown",
   "id": "be551ff6-388c-4ae5-8855-d33cf1fad81e",
   "metadata": {
    "tags": []
   },
   "source": [
    "## Zadanie 8"
   ]
  },
  {
   "cell_type": "markdown",
   "id": "07e80d3f-6dcd-4a71-8d99-740b3e1c4a7c",
   "metadata": {
    "tags": []
   },
   "source": [
    "### Treść"
   ]
  },
  {
   "cell_type": "markdown",
   "id": "32222f66-038b-4d50-8333-8fd484906609",
   "metadata": {
    "jp-MarkdownHeadingCollapsed": true,
    "tags": []
   },
   "source": [
    "#### Python:"
   ]
  },
  {
   "cell_type": "code",
   "execution_count": null,
   "id": "07b39a17-cb04-4a82-baf3-1fa0fcefa8ab",
   "metadata": {},
   "outputs": [],
   "source": []
  },
  {
   "cell_type": "markdown",
   "id": "12619f97-27a7-4edf-b9b6-a7d8f8d3c6c9",
   "metadata": {
    "tags": []
   },
   "source": [
    "#### Spark:"
   ]
  },
  {
   "cell_type": "code",
   "execution_count": null,
   "id": "917a805d-ac75-4da3-983f-2e508d8c1894",
   "metadata": {},
   "outputs": [],
   "source": []
  }
 ],
 "metadata": {
  "kernelspec": {
   "display_name": "Python 3 (ipykernel)",
   "language": "python",
   "name": "python3"
  },
  "language_info": {
   "codemirror_mode": {
    "name": "ipython",
    "version": 3
   },
   "file_extension": ".py",
   "mimetype": "text/x-python",
   "name": "python",
   "nbconvert_exporter": "python",
   "pygments_lexer": "ipython3",
   "version": "3.9.2"
  }
 },
 "nbformat": 4,
 "nbformat_minor": 5
}
