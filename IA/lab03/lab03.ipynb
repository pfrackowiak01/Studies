{
 "cells": [
  {
   "cell_type": "markdown",
   "id": "778cc400-7c9a-4ae5-b6c2-948bef66a885",
   "metadata": {
    "tags": []
   },
   "source": [
    "## Zadanie 1"
   ]
  },
  {
   "cell_type": "code",
   "execution_count": 1,
   "id": "371a8478-4331-4c06-827b-74ba61d61da6",
   "metadata": {},
   "outputs": [],
   "source": [
    "from statistics import mean\n",
    "\n",
    "class Osoba:\n",
    "    def __init__(self, imie, nazwisko, wiek, miasto):\n",
    "        self.imie = imie\n",
    "        self.nazwisko = nazwisko\n",
    "        self.wiek = wiek\n",
    "        self.miasto = miasto\n",
    "    \n",
    "    def __str__(self):\n",
    "        return f\"Imię: {self.imie}, Nazwisko: {self.nazwisko}, Wiek: {self.wiek}, Miasto: {self.miasto}\"\n",
    "    \n",
    "    def __repr__(self):\n",
    "        return self.nazwisko\n",
    "\n",
    "lista_osob = []\n",
    "\n",
    "lista_osob.append(Osoba(\"Ola\", \"Kowalska\", 5, \"Gdynia\"))\n",
    "lista_osob.append(Osoba(\"Ela\", \"Śmigalsa\", 34, \"Lublin\"))\n",
    "lista_osob.append(Osoba(\"Hania\", \"Nowak\", 10, \"Warszawa\"))\n",
    "lista_osob.append(Osoba(\"Kacper\", \"Kwiatkowski\", 22, \"Kraków\"))\n",
    "lista_osob.append(Osoba(\"Kuba\", \"Malinowski\", 7, \"Gdańsk\"))\n",
    "lista_osob.append(Osoba(\"Dominik\", \"Noga\", 7, \"Wrocław\"))\n",
    "lista_osob.append(Osoba(\"Michał\", \"Kowalski\", 23, \"Gdynia\"))\n",
    "lista_osob.append(Osoba(\"Paweł\", \"Tokarski\", 31, \"Poznań\"))\n",
    "lista_osob.append(Osoba(\"Michał\", \"Makowski\", 25, \"Gdynia\"))\n",
    "lista_osob.append(Osoba(\"Ela\", \"Tkaczyk\", 28, \"Poznań\"))\n",
    "lista_osob.append(Osoba(\"Paweł\", \"Mirecki\", 34, \"Lublin\"))\n",
    "lista_osob.append(Osoba(\"Paweł\", \"Dobrocki\", 14, \"Gdynia\"))"
   ]
  },
  {
   "cell_type": "markdown",
   "id": "59db329c-75ce-4c85-91a2-3d16bcfe7160",
   "metadata": {
    "jp-MarkdownHeadingCollapsed": true,
    "tags": []
   },
   "source": [
    "#### 1.1 Lista osób z Gdyni."
   ]
  },
  {
   "cell_type": "code",
   "execution_count": 2,
   "id": "e106c926-6c4b-46d1-b31a-3895751af187",
   "metadata": {},
   "outputs": [
    {
     "name": "stdout",
     "output_type": "stream",
     "text": [
      "Dane wszystkich osób z Gdyni:\n",
      "Imię: Ola, Nazwisko: Kowalska, Wiek: 5, Miasto: Gdynia\n",
      "Imię: Michał, Nazwisko: Kowalski, Wiek: 23, Miasto: Gdynia\n",
      "Imię: Michał, Nazwisko: Makowski, Wiek: 25, Miasto: Gdynia\n",
      "Imię: Paweł, Nazwisko: Dobrocki, Wiek: 14, Miasto: Gdynia\n"
     ]
    }
   ],
   "source": [
    "print(\"Dane wszystkich osób z Gdyni:\")\n",
    "for osoba in list(filter(lambda osoba: osoba.miasto == \"Gdynia\", lista_osob)):\n",
    "    print(osoba)"
   ]
  },
  {
   "cell_type": "markdown",
   "id": "10be9ae2-c5b8-41b4-93b6-095fd62a8f61",
   "metadata": {
    "jp-MarkdownHeadingCollapsed": true,
    "tags": []
   },
   "source": [
    "#### 1.2  Lista osób w wieku powyżej 25 lat posortowana według nazwisk."
   ]
  },
  {
   "cell_type": "code",
   "execution_count": 3,
   "id": "c5be45b1-a542-4714-b90b-3e5768f2eb83",
   "metadata": {},
   "outputs": [
    {
     "name": "stdout",
     "output_type": "stream",
     "text": [
      "Dane wszystkich osób w wieku powyżej 25 lat posortowana według nazwisk:\n",
      "Imię: Paweł, Nazwisko: Mirecki, Wiek: 34, Miasto: Lublin\n",
      "Imię: Ela, Nazwisko: Tkaczyk, Wiek: 28, Miasto: Poznań\n",
      "Imię: Paweł, Nazwisko: Tokarski, Wiek: 31, Miasto: Poznań\n",
      "Imię: Ela, Nazwisko: Śmigalsa, Wiek: 34, Miasto: Lublin\n"
     ]
    }
   ],
   "source": [
    "print(\"Dane wszystkich osób w wieku powyżej 25 lat posortowana według nazwisk:\")\n",
    "for osoba in sorted(list(filter(lambda osoba: osoba.wiek > 25, lista_osob)), key=lambda osoba: osoba.nazwisko):\n",
    "    print(osoba)"
   ]
  },
  {
   "cell_type": "markdown",
   "id": "4361b11a-8fdc-411b-b147-2b1a7cffdbb0",
   "metadata": {
    "jp-MarkdownHeadingCollapsed": true,
    "tags": []
   },
   "source": [
    "#### 1.3  Lista osób, których imię składa się z więcej niż 3 liter posortowana według wieku."
   ]
  },
  {
   "cell_type": "code",
   "execution_count": 4,
   "id": "b6eb661d-af9f-4f58-bfb9-79073151e5a4",
   "metadata": {},
   "outputs": [
    {
     "name": "stdout",
     "output_type": "stream",
     "text": [
      "Dane wszystkich osób, których imię składa się z więcej niż 3 liter posortowana według wieku:\n",
      "Imię: Kuba, Nazwisko: Malinowski, Wiek: 7, Miasto: Gdańsk\n",
      "Imię: Dominik, Nazwisko: Noga, Wiek: 7, Miasto: Wrocław\n",
      "Imię: Hania, Nazwisko: Nowak, Wiek: 10, Miasto: Warszawa\n",
      "Imię: Paweł, Nazwisko: Dobrocki, Wiek: 14, Miasto: Gdynia\n",
      "Imię: Kacper, Nazwisko: Kwiatkowski, Wiek: 22, Miasto: Kraków\n",
      "Imię: Michał, Nazwisko: Kowalski, Wiek: 23, Miasto: Gdynia\n",
      "Imię: Michał, Nazwisko: Makowski, Wiek: 25, Miasto: Gdynia\n",
      "Imię: Paweł, Nazwisko: Tokarski, Wiek: 31, Miasto: Poznań\n",
      "Imię: Paweł, Nazwisko: Mirecki, Wiek: 34, Miasto: Lublin\n"
     ]
    }
   ],
   "source": [
    "print(\"Dane wszystkich osób, których imię składa się z więcej niż 3 liter posortowana według wieku:\")\n",
    "for osoba in sorted(list(filter(lambda osoba: len(osoba.imie) > 3, lista_osob)), key=lambda osoba: osoba.wiek):\n",
    "    print(osoba)"
   ]
  },
  {
   "cell_type": "markdown",
   "id": "bb279e22-9a0c-46f6-9322-b1eb1dba8be5",
   "metadata": {
    "jp-MarkdownHeadingCollapsed": true,
    "tags": []
   },
   "source": [
    "#### 1.4 Średni wiek osób z Poznania."
   ]
  },
  {
   "cell_type": "code",
   "execution_count": 5,
   "id": "18b76808-3900-49eb-8c10-629dda8dfc60",
   "metadata": {},
   "outputs": [
    {
     "name": "stdout",
     "output_type": "stream",
     "text": [
      "Średni wiek osób z poznania: 29.5 \n",
      "\n"
     ]
    }
   ],
   "source": [
    "wieki_poznan = [osoba.wiek for osoba in lista_osob if osoba.miasto == \"Poznań\"]\n",
    "print(\"Średni wiek osób z poznania:\", mean(wieki_poznan), \"\\n\")"
   ]
  },
  {
   "cell_type": "markdown",
   "id": "9d1f308f-dabb-47da-b51c-69f377c34e54",
   "metadata": {
    "jp-MarkdownHeadingCollapsed": true,
    "tags": []
   },
   "source": [
    "#### 1.5 Liczba osób z każdego miasta."
   ]
  },
  {
   "cell_type": "code",
   "execution_count": 6,
   "id": "fdf4e179-5365-4d2f-8459-38e813181abd",
   "metadata": {},
   "outputs": [
    {
     "name": "stdout",
     "output_type": "stream",
     "text": [
      "Liczba osób z każdego miasta:\n",
      "Gdynia: 4\n",
      "Lublin: 2\n",
      "Warszawa: 1\n",
      "Kraków: 1\n",
      "Gdańsk: 1\n",
      "Wrocław: 1\n",
      "Poznań: 2\n"
     ]
    }
   ],
   "source": [
    "print(\"Liczba osób z każdego miasta:\")\n",
    "liczba_osob_miasto = {}\n",
    "for osoba in lista_osob:\n",
    "    miasto = osoba.miasto\n",
    "    if miasto in liczba_osob_miasto:\n",
    "        liczba_osob_miasto[miasto] += 1\n",
    "    else:\n",
    "        liczba_osob_miasto[miasto] = 1\n",
    "for miasto, liczba_osob in liczba_osob_miasto.items():\n",
    "    print(f\"{miasto}: {liczba_osob}\")"
   ]
  },
  {
   "cell_type": "markdown",
   "id": "29df58be-dc9c-472b-87c4-aacb4d408cef",
   "metadata": {
    "jp-MarkdownHeadingCollapsed": true,
    "tags": []
   },
   "source": [
    "#### 1.6 Liczby osób z tym samym imieniem."
   ]
  },
  {
   "cell_type": "code",
   "execution_count": 7,
   "id": "88da63c4-71be-4ae2-9c1b-eee5099296f0",
   "metadata": {},
   "outputs": [
    {
     "name": "stdout",
     "output_type": "stream",
     "text": [
      "Liczba osób z tym samym imieniem:\n",
      "Ola: 1\n",
      "Ela: 2\n",
      "Hania: 1\n",
      "Kacper: 1\n",
      "Kuba: 1\n",
      "Dominik: 1\n",
      "Michał: 2\n",
      "Paweł: 3\n"
     ]
    }
   ],
   "source": [
    "print(\"Liczba osób z tym samym imieniem:\")\n",
    "liczba_osob_imie = {}\n",
    "\n",
    "for osoba in lista_osob:\n",
    "    imie = osoba.imie\n",
    "    if imie in liczba_osob_imie:\n",
    "        liczba_osob_imie[imie] += 1\n",
    "    else:\n",
    "        liczba_osob_imie[imie] = 1\n",
    "        \n",
    "for imie, liczba_osob in liczba_osob_imie.items():\n",
    "    print(f\"{imie}: {liczba_osob}\")"
   ]
  },
  {
   "cell_type": "markdown",
   "id": "38583b6f-c351-4d74-ba12-13c5c5ffa7b2",
   "metadata": {
    "jp-MarkdownHeadingCollapsed": true,
    "tags": []
   },
   "source": [
    "#### 1.7 Lista osób, których imię rozpoczyna się na \"E\"."
   ]
  },
  {
   "cell_type": "code",
   "execution_count": 8,
   "id": "6ff72e7d-da54-448b-b1b8-9f56f5cbbd09",
   "metadata": {},
   "outputs": [
    {
     "name": "stdout",
     "output_type": "stream",
     "text": [
      "Lista osób, których imię rozpoczyna się na E:\n",
      "Imię: Ela, Nazwisko: Śmigalsa, Wiek: 34, Miasto: Lublin\n",
      "Imię: Ela, Nazwisko: Tkaczyk, Wiek: 28, Miasto: Poznań\n"
     ]
    }
   ],
   "source": [
    "print(\"Lista osób, których imię rozpoczyna się na E:\")\n",
    "for osoba in [osoba for osoba in lista_osob if osoba.imie.startswith(\"E\")]:\n",
    "    print(osoba)"
   ]
  },
  {
   "cell_type": "markdown",
   "id": "f85002cb-cc88-4bde-a711-3010a695367a",
   "metadata": {
    "jp-MarkdownHeadingCollapsed": true,
    "tags": []
   },
   "source": [
    "#### 1.8 Lista osób, których imię zawiera ”la”."
   ]
  },
  {
   "cell_type": "code",
   "execution_count": 9,
   "id": "ff3a6764-c490-49a7-a19d-9263823c0917",
   "metadata": {},
   "outputs": [
    {
     "name": "stdout",
     "output_type": "stream",
     "text": [
      "Lista osób, których imię zawiera 'la':\n",
      "Imię: Ola, Nazwisko: Kowalska, Wiek: 5, Miasto: Gdynia\n",
      "Imię: Ela, Nazwisko: Śmigalsa, Wiek: 34, Miasto: Lublin\n",
      "Imię: Ela, Nazwisko: Tkaczyk, Wiek: 28, Miasto: Poznań\n"
     ]
    }
   ],
   "source": [
    "print(\"Lista osób, których imię zawiera 'la':\")\n",
    "for osoba in [osoba for osoba in lista_osob if \"la\" in osoba.imie]:\n",
    "    print(osoba)"
   ]
  },
  {
   "cell_type": "markdown",
   "id": "a5a5397f-051f-406e-aaca-43a590613ee8",
   "metadata": {
    "jp-MarkdownHeadingCollapsed": true,
    "tags": []
   },
   "source": [
    "#### 1.9 Lista wszystkich miast, bez powtórzeń, posortowana alfabetycznie."
   ]
  },
  {
   "cell_type": "code",
   "execution_count": 10,
   "id": "fd27c4a3-004f-4674-a39e-f027d8ec172b",
   "metadata": {},
   "outputs": [
    {
     "name": "stdout",
     "output_type": "stream",
     "text": [
      "Lista wszystkich miast, bez powtórzeń, posortowana alfabetycznie:\n",
      "Gdańsk\n",
      "Gdynia\n",
      "Kraków\n",
      "Lublin\n",
      "Poznań\n",
      "Warszawa\n",
      "Wrocław\n"
     ]
    }
   ],
   "source": [
    "print(\"Lista wszystkich miast, bez powtórzeń, posortowana alfabetycznie:\")\n",
    "for miasto in sorted(list(set(osoba.miasto for osoba in lista_osob))):\n",
    "    print(miasto)"
   ]
  },
  {
   "cell_type": "markdown",
   "id": "f097a15f-0997-4cb9-aaaf-6bcb6e6706fe",
   "metadata": {
    "jp-MarkdownHeadingCollapsed": true,
    "tags": []
   },
   "source": [
    "#### 1.10 Wiek najstarszej osoby."
   ]
  },
  {
   "cell_type": "code",
   "execution_count": 11,
   "id": "fdce4158-ec4b-4eb7-b9fd-88f30215debf",
   "metadata": {},
   "outputs": [
    {
     "name": "stdout",
     "output_type": "stream",
     "text": [
      "Wiek najstarszej osoby: 34 \n",
      "\n"
     ]
    }
   ],
   "source": [
    "najstarsza_osoba = max(lista_osob, key=lambda osoba: osoba.wiek)\n",
    "print(\"Wiek najstarszej osoby:\", najstarsza_osoba.wiek,\"\\n\")"
   ]
  },
  {
   "cell_type": "markdown",
   "id": "0bcfd91a-90f7-40f8-bdd9-23b053782b70",
   "metadata": {
    "tags": []
   },
   "source": [
    "## Zadanie 2"
   ]
  },
  {
   "cell_type": "code",
   "execution_count": 12,
   "id": "8d3e74e7-47a4-4f87-b560-d598d1e8b2c7",
   "metadata": {},
   "outputs": [],
   "source": [
    "class Person:\n",
    "  def __init__(self, dane):\n",
    "    self.wiek = int(dane[0]);\n",
    "    self.formaZatrudnienia = dane[1];\n",
    "    self.wagaKontrolna = dane[2];\n",
    "    self.wyksztalcenie = dane[3];\n",
    "    self.wyksztalcenieLiczbowo = int( dane[4]);\n",
    "    self.stanCywilny = dane[5];\n",
    "    self.grupaZawodowa = dane[6];\n",
    "    self.relacjaRodzinna = dane[7];\n",
    "    self.rasa = dane[8];\n",
    "    self.plec = dane[9];\n",
    "    self.zysk = dane[10];\n",
    "    self.strata = dane[11];\n",
    "    self.godzinyTygodniowo = int( dane[12]);\n",
    "    self.kraj = dane[13];\n",
    "    self.klasaZysku = dane[14];\n",
    "    \n",
    "  def __str__(self):\n",
    "    return str(vars(self))\n",
    "\n",
    "  def __repr__(self):\n",
    "    return str(self.wiek) + \"...\"\n",
    " \n",
    "def czytaj():\n",
    "    for row in open(\"data.data\", \"r\"):\n",
    "        if( row.strip()):\n",
    "            yield Person( row.split(\", \"))\n",
    "        \n",
    "def ileElementow( gen):\n",
    "    return sum(1 for g in gen)\n",
    "\n",
    "osoby = czytaj()\n",
    "#print(*czytaj())"
   ]
  },
  {
   "cell_type": "markdown",
   "id": "0e4eb20a-d20b-4ad3-96af-ba04f8f33b71",
   "metadata": {
    "jp-MarkdownHeadingCollapsed": true,
    "tags": []
   },
   "source": [
    "#### 2.1. Lista kobiet pochodzących z Meksyku z wykształceniem HS-grad."
   ]
  },
  {
   "cell_type": "code",
   "execution_count": 13,
   "id": "e5b518d0-e12b-4f48-ba75-46b00ec32625",
   "metadata": {},
   "outputs": [
    {
     "name": "stdout",
     "output_type": "stream",
     "text": [
      "Lista kobiet pochodzących z Meksyku z wykształceniem HS-grad:\n",
      "{'wiek': 23, 'formaZatrudnienia': 'Private', 'wagaKontrolna': '375871', 'wyksztalcenie': 'HS-grad', 'wyksztalcenieLiczbowo': 9, 'stanCywilny': 'Married-civ-spouse', 'grupaZawodowa': 'Adm-clerical', 'relacjaRodzinna': 'Wife', 'rasa': 'White', 'plec': 'Female', 'zysk': '0', 'strata': '0', 'godzinyTygodniowo': 40, 'kraj': 'Mexico', 'klasaZysku': '<=50K\\n'}\n",
      "{'wiek': 31, 'formaZatrudnienia': 'Private', 'wagaKontrolna': '316672', 'wyksztalcenie': 'HS-grad', 'wyksztalcenieLiczbowo': 9, 'stanCywilny': 'Never-married', 'grupaZawodowa': 'Other-service', 'relacjaRodzinna': 'Unmarried', 'rasa': 'White', 'plec': 'Female', 'zysk': '0', 'strata': '0', 'godzinyTygodniowo': 40, 'kraj': 'Mexico', 'klasaZysku': '<=50K\\n'}\n",
      "{'wiek': 32, 'formaZatrudnienia': 'Private', 'wagaKontrolna': '549430', 'wyksztalcenie': 'HS-grad', 'wyksztalcenieLiczbowo': 9, 'stanCywilny': 'Never-married', 'grupaZawodowa': 'Priv-house-serv', 'relacjaRodzinna': 'Unmarried', 'rasa': 'White', 'plec': 'Female', 'zysk': '0', 'strata': '0', 'godzinyTygodniowo': 40, 'kraj': 'Mexico', 'klasaZysku': '<=50K\\n'}\n",
      "{'wiek': 53, 'formaZatrudnienia': 'Private', 'wagaKontrolna': '227602', 'wyksztalcenie': 'HS-grad', 'wyksztalcenieLiczbowo': 9, 'stanCywilny': 'Divorced', 'grupaZawodowa': 'Sales', 'relacjaRodzinna': 'Not-in-family', 'rasa': 'White', 'plec': 'Female', 'zysk': '0', 'strata': '0', 'godzinyTygodniowo': 37, 'kraj': 'Mexico', 'klasaZysku': '<=50K\\n'}\n",
      "{'wiek': 29, 'formaZatrudnienia': 'Private', 'wagaKontrolna': '370494', 'wyksztalcenie': 'HS-grad', 'wyksztalcenieLiczbowo': 9, 'stanCywilny': 'Never-married', 'grupaZawodowa': 'Other-service', 'relacjaRodzinna': 'Unmarried', 'rasa': 'White', 'plec': 'Female', 'zysk': '0', 'strata': '0', 'godzinyTygodniowo': 40, 'kraj': 'Mexico', 'klasaZysku': '<=50K\\n'}\n",
      "{'wiek': 40, 'formaZatrudnienia': 'Private', 'wagaKontrolna': '273308', 'wyksztalcenie': 'HS-grad', 'wyksztalcenieLiczbowo': 9, 'stanCywilny': 'Divorced', 'grupaZawodowa': 'Machine-op-inspct', 'relacjaRodzinna': 'Unmarried', 'rasa': 'White', 'plec': 'Female', 'zysk': '0', 'strata': '0', 'godzinyTygodniowo': 48, 'kraj': 'Mexico', 'klasaZysku': '<=50K\\n'}\n",
      "{'wiek': 28, 'formaZatrudnienia': '?', 'wagaKontrolna': '201844', 'wyksztalcenie': 'HS-grad', 'wyksztalcenieLiczbowo': 9, 'stanCywilny': 'Separated', 'grupaZawodowa': '?', 'relacjaRodzinna': 'Unmarried', 'rasa': 'White', 'plec': 'Female', 'zysk': '0', 'strata': '0', 'godzinyTygodniowo': 40, 'kraj': 'Mexico', 'klasaZysku': '<=50K\\n'}\n",
      "{'wiek': 20, 'formaZatrudnienia': 'Private', 'wagaKontrolna': '221661', 'wyksztalcenie': 'HS-grad', 'wyksztalcenieLiczbowo': 9, 'stanCywilny': 'Married-civ-spouse', 'grupaZawodowa': 'Adm-clerical', 'relacjaRodzinna': 'Wife', 'rasa': 'White', 'plec': 'Female', 'zysk': '0', 'strata': '0', 'godzinyTygodniowo': 40, 'kraj': 'Mexico', 'klasaZysku': '<=50K\\n'}\n",
      "{'wiek': 26, 'formaZatrudnienia': 'Private', 'wagaKontrolna': '303973', 'wyksztalcenie': 'HS-grad', 'wyksztalcenieLiczbowo': 9, 'stanCywilny': 'Never-married', 'grupaZawodowa': 'Priv-house-serv', 'relacjaRodzinna': 'Other-relative', 'rasa': 'White', 'plec': 'Female', 'zysk': '0', 'strata': '1602', 'godzinyTygodniowo': 15, 'kraj': 'Mexico', 'klasaZysku': '<=50K\\n'}\n",
      "{'wiek': 20, 'formaZatrudnienia': 'Private', 'wagaKontrolna': '432154', 'wyksztalcenie': 'HS-grad', 'wyksztalcenieLiczbowo': 9, 'stanCywilny': 'Never-married', 'grupaZawodowa': 'Sales', 'relacjaRodzinna': 'Own-child', 'rasa': 'White', 'plec': 'Female', 'zysk': '0', 'strata': '0', 'godzinyTygodniowo': 8, 'kraj': 'Mexico', 'klasaZysku': '<=50K\\n'}\n",
      "{'wiek': 25, 'formaZatrudnienia': 'Private', 'wagaKontrolna': '255647', 'wyksztalcenie': 'HS-grad', 'wyksztalcenieLiczbowo': 9, 'stanCywilny': 'Married-civ-spouse', 'grupaZawodowa': 'Other-service', 'relacjaRodzinna': 'Wife', 'rasa': 'White', 'plec': 'Female', 'zysk': '0', 'strata': '0', 'godzinyTygodniowo': 25, 'kraj': 'Mexico', 'klasaZysku': '<=50K\\n'}\n",
      "{'wiek': 56, 'formaZatrudnienia': 'Private', 'wagaKontrolna': '392160', 'wyksztalcenie': 'HS-grad', 'wyksztalcenieLiczbowo': 9, 'stanCywilny': 'Widowed', 'grupaZawodowa': 'Sales', 'relacjaRodzinna': 'Unmarried', 'rasa': 'White', 'plec': 'Female', 'zysk': '0', 'strata': '0', 'godzinyTygodniowo': 25, 'kraj': 'Mexico', 'klasaZysku': '<=50K\\n'}\n",
      "{'wiek': 24, 'formaZatrudnienia': 'Private', 'wagaKontrolna': '270517', 'wyksztalcenie': 'HS-grad', 'wyksztalcenieLiczbowo': 9, 'stanCywilny': 'Never-married', 'grupaZawodowa': 'Other-service', 'relacjaRodzinna': 'Own-child', 'rasa': 'White', 'plec': 'Female', 'zysk': '0', 'strata': '0', 'godzinyTygodniowo': 40, 'kraj': 'Mexico', 'klasaZysku': '<=50K\\n'}\n",
      "{'wiek': 20, 'formaZatrudnienia': 'Private', 'wagaKontrolna': '270517', 'wyksztalcenie': 'HS-grad', 'wyksztalcenieLiczbowo': 9, 'stanCywilny': 'Never-married', 'grupaZawodowa': 'Other-service', 'relacjaRodzinna': 'Own-child', 'rasa': 'White', 'plec': 'Female', 'zysk': '0', 'strata': '0', 'godzinyTygodniowo': 40, 'kraj': 'Mexico', 'klasaZysku': '<=50K\\n'}\n",
      "{'wiek': 29, 'formaZatrudnienia': 'Private', 'wagaKontrolna': '197932', 'wyksztalcenie': 'HS-grad', 'wyksztalcenieLiczbowo': 9, 'stanCywilny': 'Married-civ-spouse', 'grupaZawodowa': 'Handlers-cleaners', 'relacjaRodzinna': 'Wife', 'rasa': 'White', 'plec': 'Female', 'zysk': '0', 'strata': '0', 'godzinyTygodniowo': 40, 'kraj': 'Mexico', 'klasaZysku': '>50K\\n'}\n",
      "{'wiek': 25, 'formaZatrudnienia': 'Private', 'wagaKontrolna': '204219', 'wyksztalcenie': 'HS-grad', 'wyksztalcenieLiczbowo': 9, 'stanCywilny': 'Never-married', 'grupaZawodowa': 'Adm-clerical', 'relacjaRodzinna': 'Unmarried', 'rasa': 'White', 'plec': 'Female', 'zysk': '0', 'strata': '0', 'godzinyTygodniowo': 40, 'kraj': 'Mexico', 'klasaZysku': '<=50K\\n'}\n",
      "{'wiek': 20, 'formaZatrudnienia': 'Private', 'wagaKontrolna': '216825', 'wyksztalcenie': 'HS-grad', 'wyksztalcenieLiczbowo': 9, 'stanCywilny': 'Never-married', 'grupaZawodowa': 'Sales', 'relacjaRodzinna': 'Own-child', 'rasa': 'White', 'plec': 'Female', 'zysk': '0', 'strata': '0', 'godzinyTygodniowo': 25, 'kraj': 'Mexico', 'klasaZysku': '<=50K\\n'}\n",
      "{'wiek': 22, 'formaZatrudnienia': 'Private', 'wagaKontrolna': '353039', 'wyksztalcenie': 'HS-grad', 'wyksztalcenieLiczbowo': 9, 'stanCywilny': 'Never-married', 'grupaZawodowa': 'Craft-repair', 'relacjaRodzinna': 'Unmarried', 'rasa': 'White', 'plec': 'Female', 'zysk': '0', 'strata': '0', 'godzinyTygodniowo': 36, 'kraj': 'Mexico', 'klasaZysku': '<=50K\\n'}\n",
      "{'wiek': 31, 'formaZatrudnienia': 'Private', 'wagaKontrolna': '442429', 'wyksztalcenie': 'HS-grad', 'wyksztalcenieLiczbowo': 9, 'stanCywilny': 'Separated', 'grupaZawodowa': 'Craft-repair', 'relacjaRodzinna': 'Unmarried', 'rasa': 'White', 'plec': 'Female', 'zysk': '0', 'strata': '0', 'godzinyTygodniowo': 40, 'kraj': 'Mexico', 'klasaZysku': '<=50K\\n'}\n",
      "{'wiek': 30, 'formaZatrudnienia': 'Private', 'wagaKontrolna': '167558', 'wyksztalcenie': 'HS-grad', 'wyksztalcenieLiczbowo': 9, 'stanCywilny': 'Never-married', 'grupaZawodowa': 'Sales', 'relacjaRodzinna': 'Unmarried', 'rasa': 'White', 'plec': 'Female', 'zysk': '0', 'strata': '0', 'godzinyTygodniowo': 35, 'kraj': 'Mexico', 'klasaZysku': '<=50K\\n'}\n",
      "{'wiek': 26, 'formaZatrudnienia': 'Private', 'wagaKontrolna': '152855', 'wyksztalcenie': 'HS-grad', 'wyksztalcenieLiczbowo': 9, 'stanCywilny': 'Never-married', 'grupaZawodowa': 'Exec-managerial', 'relacjaRodzinna': 'Own-child', 'rasa': 'Other', 'plec': 'Female', 'zysk': '0', 'strata': '0', 'godzinyTygodniowo': 40, 'kraj': 'Mexico', 'klasaZysku': '<=50K\\n'}\n",
      "{'wiek': 26, 'formaZatrudnienia': 'Private', 'wagaKontrolna': '142081', 'wyksztalcenie': 'HS-grad', 'wyksztalcenieLiczbowo': 9, 'stanCywilny': 'Married-civ-spouse', 'grupaZawodowa': 'Other-service', 'relacjaRodzinna': 'Wife', 'rasa': 'White', 'plec': 'Female', 'zysk': '0', 'strata': '0', 'godzinyTygodniowo': 40, 'kraj': 'Mexico', 'klasaZysku': '<=50K\\n'}\n",
      "{'wiek': 27, 'formaZatrudnienia': 'Private', 'wagaKontrolna': '167405', 'wyksztalcenie': 'HS-grad', 'wyksztalcenieLiczbowo': 9, 'stanCywilny': 'Married-spouse-absent', 'grupaZawodowa': 'Farming-fishing', 'relacjaRodzinna': 'Own-child', 'rasa': 'White', 'plec': 'Female', 'zysk': '0', 'strata': '0', 'godzinyTygodniowo': 40, 'kraj': 'Mexico', 'klasaZysku': '<=50K\\n'}\n",
      "{'wiek': 31, 'formaZatrudnienia': '?', 'wagaKontrolna': '251167', 'wyksztalcenie': 'HS-grad', 'wyksztalcenieLiczbowo': 9, 'stanCywilny': 'Married-civ-spouse', 'grupaZawodowa': '?', 'relacjaRodzinna': 'Wife', 'rasa': 'White', 'plec': 'Female', 'zysk': '0', 'strata': '0', 'godzinyTygodniowo': 30, 'kraj': 'Mexico', 'klasaZysku': '<=50K\\n'}\n",
      "{'wiek': 25, 'formaZatrudnienia': 'Private', 'wagaKontrolna': '352806', 'wyksztalcenie': 'HS-grad', 'wyksztalcenieLiczbowo': 9, 'stanCywilny': 'Divorced', 'grupaZawodowa': 'Other-service', 'relacjaRodzinna': 'Not-in-family', 'rasa': 'White', 'plec': 'Female', 'zysk': '0', 'strata': '0', 'godzinyTygodniowo': 40, 'kraj': 'Mexico', 'klasaZysku': '<=50K\\n'}\n",
      "{'wiek': 34, 'formaZatrudnienia': 'Private', 'wagaKontrolna': '226629', 'wyksztalcenie': 'HS-grad', 'wyksztalcenieLiczbowo': 9, 'stanCywilny': 'Never-married', 'grupaZawodowa': 'Priv-house-serv', 'relacjaRodzinna': 'Not-in-family', 'rasa': 'White', 'plec': 'Female', 'zysk': '0', 'strata': '0', 'godzinyTygodniowo': 40, 'kraj': 'Mexico', 'klasaZysku': '<=50K\\n'}\n",
      "{'wiek': 24, 'formaZatrudnienia': '?', 'wagaKontrolna': '412156', 'wyksztalcenie': 'HS-grad', 'wyksztalcenieLiczbowo': 9, 'stanCywilny': 'Married-civ-spouse', 'grupaZawodowa': '?', 'relacjaRodzinna': 'Wife', 'rasa': 'White', 'plec': 'Female', 'zysk': '0', 'strata': '0', 'godzinyTygodniowo': 40, 'kraj': 'Mexico', 'klasaZysku': '<=50K\\n'}\n",
      "{'wiek': 37, 'formaZatrudnienia': 'Private', 'wagaKontrolna': '220314', 'wyksztalcenie': 'HS-grad', 'wyksztalcenieLiczbowo': 9, 'stanCywilny': 'Divorced', 'grupaZawodowa': 'Adm-clerical', 'relacjaRodzinna': 'Unmarried', 'rasa': 'White', 'plec': 'Female', 'zysk': '0', 'strata': '0', 'godzinyTygodniowo': 40, 'kraj': 'Mexico', 'klasaZysku': '<=50K\\n'}\n",
      "{'wiek': 41, 'formaZatrudnienia': 'Private', 'wagaKontrolna': '190885', 'wyksztalcenie': 'HS-grad', 'wyksztalcenieLiczbowo': 9, 'stanCywilny': 'Separated', 'grupaZawodowa': 'Other-service', 'relacjaRodzinna': 'Unmarried', 'rasa': 'White', 'plec': 'Female', 'zysk': '0', 'strata': '0', 'godzinyTygodniowo': 40, 'kraj': 'Mexico', 'klasaZysku': '<=50K\\n'}\n",
      "{'wiek': 22, 'formaZatrudnienia': 'Private', 'wagaKontrolna': '213902', 'wyksztalcenie': 'HS-grad', 'wyksztalcenieLiczbowo': 9, 'stanCywilny': 'Never-married', 'grupaZawodowa': 'Adm-clerical', 'relacjaRodzinna': 'Unmarried', 'rasa': 'White', 'plec': 'Female', 'zysk': '0', 'strata': '0', 'godzinyTygodniowo': 40, 'kraj': 'Mexico', 'klasaZysku': '<=50K\\n'}\n",
      "{'wiek': 51, 'formaZatrudnienia': 'Private', 'wagaKontrolna': '355551', 'wyksztalcenie': 'HS-grad', 'wyksztalcenieLiczbowo': 9, 'stanCywilny': 'Never-married', 'grupaZawodowa': 'Craft-repair', 'relacjaRodzinna': 'Unmarried', 'rasa': 'White', 'plec': 'Female', 'zysk': '0', 'strata': '0', 'godzinyTygodniowo': 45, 'kraj': 'Mexico', 'klasaZysku': '<=50K\\n'}\n",
      "{'wiek': 20, 'formaZatrudnienia': 'Private', 'wagaKontrolna': '435469', 'wyksztalcenie': 'HS-grad', 'wyksztalcenieLiczbowo': 9, 'stanCywilny': 'Never-married', 'grupaZawodowa': 'Other-service', 'relacjaRodzinna': 'Own-child', 'rasa': 'White', 'plec': 'Female', 'zysk': '0', 'strata': '0', 'godzinyTygodniowo': 40, 'kraj': 'Mexico', 'klasaZysku': '<=50K\\n'}\n",
      "{'wiek': 28, 'formaZatrudnienia': '?', 'wagaKontrolna': '222005', 'wyksztalcenie': 'HS-grad', 'wyksztalcenieLiczbowo': 9, 'stanCywilny': 'Never-married', 'grupaZawodowa': '?', 'relacjaRodzinna': 'Other-relative', 'rasa': 'White', 'plec': 'Female', 'zysk': '0', 'strata': '0', 'godzinyTygodniowo': 40, 'kraj': 'Mexico', 'klasaZysku': '<=50K\\n'}\n",
      "{'wiek': 22, 'formaZatrudnienia': 'Private', 'wagaKontrolna': '500720', 'wyksztalcenie': 'HS-grad', 'wyksztalcenieLiczbowo': 9, 'stanCywilny': 'Never-married', 'grupaZawodowa': 'Adm-clerical', 'relacjaRodzinna': 'Own-child', 'rasa': 'White', 'plec': 'Female', 'zysk': '0', 'strata': '0', 'godzinyTygodniowo': 40, 'kraj': 'Mexico', 'klasaZysku': '<=50K\\n'}\n",
      "{'wiek': 28, 'formaZatrudnienia': 'Private', 'wagaKontrolna': '261725', 'wyksztalcenie': 'HS-grad', 'wyksztalcenieLiczbowo': 9, 'stanCywilny': 'Never-married', 'grupaZawodowa': 'Other-service', 'relacjaRodzinna': 'Unmarried', 'rasa': 'White', 'plec': 'Female', 'zysk': '0', 'strata': '0', 'godzinyTygodniowo': 40, 'kraj': 'Mexico', 'klasaZysku': '<=50K\\n'}\n",
      "{'wiek': 33, 'formaZatrudnienia': 'Private', 'wagaKontrolna': '403468', 'wyksztalcenie': 'HS-grad', 'wyksztalcenieLiczbowo': 9, 'stanCywilny': 'Married-civ-spouse', 'grupaZawodowa': 'Machine-op-inspct', 'relacjaRodzinna': 'Wife', 'rasa': 'White', 'plec': 'Female', 'zysk': '0', 'strata': '0', 'godzinyTygodniowo': 40, 'kraj': 'Mexico', 'klasaZysku': '<=50K\\n'}\n",
      "{'wiek': 24, 'formaZatrudnienia': 'Private', 'wagaKontrolna': '86065', 'wyksztalcenie': 'HS-grad', 'wyksztalcenieLiczbowo': 9, 'stanCywilny': 'Never-married', 'grupaZawodowa': 'Transport-moving', 'relacjaRodzinna': 'Unmarried', 'rasa': 'White', 'plec': 'Female', 'zysk': '0', 'strata': '0', 'godzinyTygodniowo': 40, 'kraj': 'Mexico', 'klasaZysku': '<=50K\\n'}\n"
     ]
    }
   ],
   "source": [
    "kobiety_meksyk_hs = [osoba for osoba in osoby if osoba.plec == \"Female\" and osoba.kraj == \"Mexico\" and osoba.wyksztalcenie == \"HS-grad\"]\n",
    "print(\"Lista kobiet pochodzących z Meksyku z wykształceniem HS-grad:\")\n",
    "for osoba in kobiety_meksyk_hs:\n",
    "    print(osoba)"
   ]
  },
  {
   "cell_type": "markdown",
   "id": "cbe3ffea-aada-4189-996e-1d88dd96c1b9",
   "metadata": {
    "jp-MarkdownHeadingCollapsed": true,
    "tags": []
   },
   "source": [
    "#### 2.2. Liczba osób, które wzięły udział w spisie z podziałem na kobiety i mężczyzn."
   ]
  },
  {
   "cell_type": "code",
   "execution_count": 14,
   "id": "30f3ca30-c6b2-4281-9773-4db4a578f6c9",
   "metadata": {},
   "outputs": [
    {
     "name": "stdout",
     "output_type": "stream",
     "text": [
      "Liczba osób, które wzięły udział w spisie z podziałem na kobiety i mężczyzn:\n",
      "Female: 10771\n",
      "Male: 21790\n"
     ]
    }
   ],
   "source": [
    "print(\"Liczba osób, które wzięły udział w spisie z podziałem na kobiety i mężczyzn:\")\n",
    "liczba_osob_km = {\"Female\": 0, \"Male\": 0}  # tworzymy słownik\n",
    "\n",
    "osoby_plec = czytaj()  # Wczytaj dane z pliku \"data.data\"\n",
    "\n",
    "for osoba in osoby_plec:\n",
    "    plec = osoba.plec\n",
    "    liczba_osob_km[plec] += 1\n",
    "        \n",
    "for plec, osoby_plec in liczba_osob_km.items():\n",
    "    print(f\"{plec}: {osoby_plec}\")"
   ]
  },
  {
   "cell_type": "markdown",
   "id": "99c1acca-cfec-46d4-9cc3-a87d573185fe",
   "metadata": {
    "jp-MarkdownHeadingCollapsed": true,
    "tags": []
   },
   "source": [
    "#### 2.3. Średni wiek osób Never-married o formie zatrudnienia Private."
   ]
  },
  {
   "cell_type": "code",
   "execution_count": 15,
   "id": "be70ee64-7d0a-4faf-9012-a33fecf3d711",
   "metadata": {},
   "outputs": [
    {
     "name": "stdout",
     "output_type": "stream",
     "text": [
      "Średni wiek osób, które są 'Never-married' i mają zatrudnienie 'Private': 27.64769118006352\n"
     ]
    }
   ],
   "source": [
    "osoby = czytaj()  # Wczytaj dane z pliku \"data.data\"\n",
    "\n",
    "osoby_filtrowane = [osoba for osoba in osoby if osoba.stanCywilny == \"Never-married\" and osoba.formaZatrudnienia == \"Private\"]\n",
    "\n",
    "sredni_wiek = mean([osoba.wiek for osoba in osoby_filtrowane])\n",
    "\n",
    "print(\"Średni wiek osób, które są 'Never-married' i mają zatrudnienie 'Private':\", sredni_wiek)"
   ]
  },
  {
   "cell_type": "markdown",
   "id": "b19c6831-1d38-4b71-9621-6918744e5cbf",
   "metadata": {
    "jp-MarkdownHeadingCollapsed": true,
    "tags": []
   },
   "source": [
    "#### 2.4. Liczba osób o wykształceniu liczbowo od 9 do 13 pracujących od 20 do 30 godzin tygodniowo pogrupowana według form zatrudnienia."
   ]
  },
  {
   "cell_type": "code",
   "execution_count": 25,
   "id": "5fcf4885-7773-4fe6-98bf-77272c9a98d4",
   "metadata": {},
   "outputs": [
    {
     "name": "stdout",
     "output_type": "stream",
     "text": [
      "Private: 1871\n",
      "Local-gov: 106\n",
      "Federal-gov: 28\n",
      "Self-emp-not-inc: 223\n",
      "?: 321\n",
      "State-gov: 87\n",
      "Self-emp-inc: 48\n",
      "Without-pay: 5\n"
     ]
    }
   ],
   "source": [
    "osoby = czytaj()\n",
    "liczba_osob_zatrudnienie = {}\n",
    "\n",
    "for osoba in [osoba for osoba in osoby if osoba.wyksztalcenieLiczbowo >= 9 and osoba.wyksztalcenieLiczbowo <= 13 and osoba.godzinyTygodniowo >= 20 and osoba.godzinyTygodniowo <= 30]:\n",
    "    zatrudnienie = osoba.formaZatrudnienia\n",
    "    if zatrudnienie in liczba_osob_zatrudnienie:\n",
    "        liczba_osob_zatrudnienie[zatrudnienie] += 1\n",
    "    else:\n",
    "        liczba_osob_zatrudnienie[zatrudnienie] = 1\n",
    "        \n",
    "for zatrudnienie, osoby in liczba_osob_zatrudnienie.items():\n",
    "    print(f\"{zatrudnienie}: {osoby}\")"
   ]
  },
  {
   "cell_type": "markdown",
   "id": "dc5a5007-86d2-4b52-b7bb-9f24ffb99062",
   "metadata": {
    "jp-MarkdownHeadingCollapsed": true,
    "tags": []
   },
   "source": [
    "#### 2.5. Liczby osób z USA z takim samym wykształceniem"
   ]
  },
  {
   "cell_type": "code",
   "execution_count": 48,
   "id": "37933708-675f-40cb-bc41-2e9825490b16",
   "metadata": {},
   "outputs": [
    {
     "name": "stdout",
     "output_type": "stream",
     "text": [
      "Bachelors: 4766\n",
      "HS-grad: 9702\n",
      "11th: 1067\n",
      "Masters: 1527\n",
      "Some-college: 6740\n",
      "Assoc-acdm: 982\n",
      "Doctorate: 328\n",
      "9th: 395\n",
      "Assoc-voc: 1289\n",
      "10th: 848\n",
      "7th-8th: 499\n",
      "Prof-school: 502\n",
      "1st-4th: 46\n",
      "Preschool: 17\n",
      "5th-6th: 97\n",
      "12th: 365\n"
     ]
    }
   ],
   "source": [
    "osoby = czytaj()\n",
    "liczba_osob_usa = {}\n",
    "\n",
    "for osoba in [osoba for osoba in osoby if osoba.kraj == \"United-States\"]:\n",
    "    wyksztalcenie = osoba.wyksztalcenie\n",
    "    if wyksztalcenie in liczba_osob_usa:\n",
    "        liczba_osob_usa[wyksztalcenie] += 1\n",
    "    else:\n",
    "        liczba_osob_usa[wyksztalcenie] = 1\n",
    "        \n",
    "for wyksztalcenie, osoby in liczba_osob_usa.items():\n",
    "    print(f\"{wyksztalcenie}: {osoby}\")"
   ]
  },
  {
   "cell_type": "markdown",
   "id": "8abbabba-47eb-40dd-a7c4-c748b93de7ff",
   "metadata": {
    "jp-MarkdownHeadingCollapsed": true,
    "tags": []
   },
   "source": [
    "#### 2.6. Średnie liczby godzin przepracowywanych w tygodniu przez osoby ze stopniem Bachelors dla każdej z form zatrudnienia."
   ]
  },
  {
   "cell_type": "code",
   "execution_count": 35,
   "id": "0c1d9161-d4e9-4bb5-941b-1e5eff434bbc",
   "metadata": {},
   "outputs": [
    {
     "name": "stdout",
     "output_type": "stream",
     "text": [
      "State-gov: 39.69259259259259\n",
      "Self-emp-not-inc: 44.177944862155385\n",
      "Private: 42.69867642917488\n",
      "Local-gov: 42.140461215932916\n",
      "Federal-gov: 42.617924528301884\n",
      "?: 32.41618497109827\n",
      "Self-emp-inc: 49.4029304029304\n"
     ]
    }
   ],
   "source": [
    "osoby = czytaj()\n",
    "godziny_przepracowane = {}\n",
    "\n",
    "# Iteruj przez osoby i dodaj godziny przepracowane do odpowiednich list w słowniku\n",
    "for osoba in osoby:\n",
    "    if osoba.wyksztalcenie == \"Bachelors\":\n",
    "        if osoba.formaZatrudnienia not in godziny_przepracowane:\n",
    "            godziny_przepracowane[osoba.formaZatrudnienia] = []\n",
    "        godziny_przepracowane[osoba.formaZatrudnienia].append(osoba.godzinyTygodniowo)\n",
    "\n",
    "# Oblicz średnie liczby godzin dla każdej formy zatrudnienia\n",
    "srednie_godziny = {forma: mean(godziny) for forma, godziny in godziny_przepracowane.items()}\n",
    "\n",
    "for forma_zatrudnienia, srednia in srednie_godziny.items():\n",
    "    print(f\"{forma_zatrudnienia}: {srednia}\")"
   ]
  },
  {
   "cell_type": "markdown",
   "id": "ac604019-303e-4023-858e-9271dd2e0402",
   "metadata": {
    "jp-MarkdownHeadingCollapsed": true,
    "tags": []
   },
   "source": [
    "#### 2.7. Minimalny i maksymalny wiek osób pracujących w różnych grupach zawodowych."
   ]
  },
  {
   "cell_type": "code",
   "execution_count": 38,
   "id": "c77e74d2-d153-449b-a4c1-b1e3452d1119",
   "metadata": {},
   "outputs": [
    {
     "name": "stdout",
     "output_type": "stream",
     "text": [
      "Minimalny wiek dla 'Adm-clerical':  17\n",
      "Maksymalny wiek dla 'Adm-clerical': 90\n",
      "Minimalny wiek dla 'Exec-managerial':  17\n",
      "Maksymalny wiek dla 'Exec-managerial': 90\n",
      "Minimalny wiek dla 'Handlers-cleaners':  17\n",
      "Maksymalny wiek dla 'Handlers-cleaners': 90\n",
      "Minimalny wiek dla 'Prof-specialty':  17\n",
      "Maksymalny wiek dla 'Prof-specialty': 90\n",
      "Minimalny wiek dla 'Other-service':  17\n",
      "Maksymalny wiek dla 'Other-service': 90\n",
      "Minimalny wiek dla 'Sales':  17\n",
      "Maksymalny wiek dla 'Sales': 90\n",
      "Minimalny wiek dla 'Craft-repair':  17\n",
      "Maksymalny wiek dla 'Craft-repair': 90\n",
      "Minimalny wiek dla 'Transport-moving':  17\n",
      "Maksymalny wiek dla 'Transport-moving': 90\n",
      "Minimalny wiek dla 'Farming-fishing':  17\n",
      "Maksymalny wiek dla 'Farming-fishing': 90\n",
      "Minimalny wiek dla 'Machine-op-inspct':  17\n",
      "Maksymalny wiek dla 'Machine-op-inspct': 90\n",
      "Minimalny wiek dla 'Tech-support':  17\n",
      "Maksymalny wiek dla 'Tech-support': 73\n",
      "Minimalny wiek dla '?':  17\n",
      "Maksymalny wiek dla '?': 90\n",
      "Minimalny wiek dla 'Protective-serv':  17\n",
      "Maksymalny wiek dla 'Protective-serv': 90\n",
      "Minimalny wiek dla 'Armed-Forces':  23\n",
      "Maksymalny wiek dla 'Armed-Forces': 46\n",
      "Minimalny wiek dla 'Priv-house-serv':  17\n",
      "Maksymalny wiek dla 'Priv-house-serv': 81\n"
     ]
    }
   ],
   "source": [
    "osoby = czytaj()\n",
    "min_wiek = {}\n",
    "max_wiek = {}\n",
    "\n",
    "# Iteruj przez osoby i znajdź minimalny i maksymalny wiek dla każdej grupy zawodowej\n",
    "for osoba in osoby:\n",
    "    if osoba.grupaZawodowa not in min_wiek:\n",
    "        min_wiek[osoba.grupaZawodowa] = osoba.wiek\n",
    "        max_wiek[osoba.grupaZawodowa] = osoba.wiek\n",
    "    else:\n",
    "        if osoba.wiek < min_wiek[osoba.grupaZawodowa]:\n",
    "            min_wiek[osoba.grupaZawodowa] = osoba.wiek\n",
    "        if osoba.wiek > max_wiek[osoba.grupaZawodowa]:\n",
    "            max_wiek[osoba.grupaZawodowa] = osoba.wiek\n",
    "\n",
    "# Wyświetl minimalny i maksymalny wiek dla każdej grupy zawodowej\n",
    "for grupa_zawodowa in min_wiek:\n",
    "    print(f\"Minimalny wiek dla '{grupa_zawodowa}':  {min_wiek[grupa_zawodowa]}\")\n",
    "    print(f\"Maksymalny wiek dla '{grupa_zawodowa}': {max_wiek[grupa_zawodowa]}\")"
   ]
  },
  {
   "cell_type": "markdown",
   "id": "ca74391d-6523-4d81-b244-f87a920df5fd",
   "metadata": {
    "jp-MarkdownHeadingCollapsed": true,
    "tags": []
   },
   "source": [
    "#### 2.8. Lista mężczyzn pochodzących z Kuby lub Jamajki z wykształceniem HS-grad."
   ]
  },
  {
   "cell_type": "code",
   "execution_count": 45,
   "id": "519949ef-4710-40e6-ad48-aa69a86e16a4",
   "metadata": {},
   "outputs": [
    {
     "name": "stdout",
     "output_type": "stream",
     "text": [
      "{'wiek': 33, 'formaZatrudnienia': 'Private', 'wagaKontrolna': '343925', 'wyksztalcenie': 'HS-grad', 'wyksztalcenieLiczbowo': 9, 'stanCywilny': 'Never-married', 'grupaZawodowa': 'Handlers-cleaners', 'relacjaRodzinna': 'Not-in-family', 'rasa': 'Black', 'plec': 'Male', 'zysk': '0', 'strata': '0', 'godzinyTygodniowo': 40, 'kraj': 'Jamaica', 'klasaZysku': '<=50K\\n'}\n",
      "{'wiek': 57, 'formaZatrudnienia': 'Self-emp-inc', 'wagaKontrolna': '282913', 'wyksztalcenie': 'HS-grad', 'wyksztalcenieLiczbowo': 9, 'stanCywilny': 'Married-civ-spouse', 'grupaZawodowa': 'Sales', 'relacjaRodzinna': 'Husband', 'rasa': 'White', 'plec': 'Male', 'zysk': '0', 'strata': '0', 'godzinyTygodniowo': 40, 'kraj': 'Cuba', 'klasaZysku': '<=50K\\n'}\n",
      "{'wiek': 38, 'formaZatrudnienia': 'Private', 'wagaKontrolna': '225707', 'wyksztalcenie': 'HS-grad', 'wyksztalcenieLiczbowo': 9, 'stanCywilny': 'Married-civ-spouse', 'grupaZawodowa': 'Machine-op-inspct', 'relacjaRodzinna': 'Husband', 'rasa': 'White', 'plec': 'Male', 'zysk': '0', 'strata': '0', 'godzinyTygodniowo': 40, 'kraj': 'Cuba', 'klasaZysku': '>50K\\n'}\n",
      "{'wiek': 35, 'formaZatrudnienia': 'Local-gov', 'wagaKontrolna': '258037', 'wyksztalcenie': 'HS-grad', 'wyksztalcenieLiczbowo': 9, 'stanCywilny': 'Married-civ-spouse', 'grupaZawodowa': 'Craft-repair', 'relacjaRodzinna': 'Husband', 'rasa': 'White', 'plec': 'Male', 'zysk': '0', 'strata': '0', 'godzinyTygodniowo': 40, 'kraj': 'Cuba', 'klasaZysku': '>50K\\n'}\n",
      "{'wiek': 41, 'formaZatrudnienia': 'Self-emp-not-inc', 'wagaKontrolna': '229148', 'wyksztalcenie': 'HS-grad', 'wyksztalcenieLiczbowo': 9, 'stanCywilny': 'Never-married', 'grupaZawodowa': 'Other-service', 'relacjaRodzinna': 'Not-in-family', 'rasa': 'Black', 'plec': 'Male', 'zysk': '0', 'strata': '0', 'godzinyTygodniowo': 60, 'kraj': 'Jamaica', 'klasaZysku': '<=50K\\n'}\n",
      "{'wiek': 44, 'formaZatrudnienia': 'Self-emp-not-inc', 'wagaKontrolna': '195486', 'wyksztalcenie': 'HS-grad', 'wyksztalcenieLiczbowo': 9, 'stanCywilny': 'Married-civ-spouse', 'grupaZawodowa': 'Sales', 'relacjaRodzinna': 'Husband', 'rasa': 'Black', 'plec': 'Male', 'zysk': '0', 'strata': '0', 'godzinyTygodniowo': 70, 'kraj': 'Jamaica', 'klasaZysku': '<=50K\\n'}\n",
      "{'wiek': 82, 'formaZatrudnienia': 'Self-emp-not-inc', 'wagaKontrolna': '240491', 'wyksztalcenie': 'HS-grad', 'wyksztalcenieLiczbowo': 9, 'stanCywilny': 'Married-civ-spouse', 'grupaZawodowa': 'Craft-repair', 'relacjaRodzinna': 'Husband', 'rasa': 'White', 'plec': 'Male', 'zysk': '0', 'strata': '0', 'godzinyTygodniowo': 40, 'kraj': 'Cuba', 'klasaZysku': '<=50K\\n'}\n",
      "{'wiek': 77, 'formaZatrudnienia': 'Private', 'wagaKontrolna': '235775', 'wyksztalcenie': 'HS-grad', 'wyksztalcenieLiczbowo': 9, 'stanCywilny': 'Married-civ-spouse', 'grupaZawodowa': 'Other-service', 'relacjaRodzinna': 'Husband', 'rasa': 'White', 'plec': 'Male', 'zysk': '0', 'strata': '0', 'godzinyTygodniowo': 25, 'kraj': 'Cuba', 'klasaZysku': '<=50K\\n'}\n",
      "{'wiek': 28, 'formaZatrudnienia': 'Private', 'wagaKontrolna': '222442', 'wyksztalcenie': 'HS-grad', 'wyksztalcenieLiczbowo': 9, 'stanCywilny': 'Married-civ-spouse', 'grupaZawodowa': 'Sales', 'relacjaRodzinna': 'Husband', 'rasa': 'White', 'plec': 'Male', 'zysk': '0', 'strata': '0', 'godzinyTygodniowo': 51, 'kraj': 'Cuba', 'klasaZysku': '<=50K\\n'}\n",
      "{'wiek': 53, 'formaZatrudnienia': 'Private', 'wagaKontrolna': '268545', 'wyksztalcenie': 'HS-grad', 'wyksztalcenieLiczbowo': 9, 'stanCywilny': 'Married-civ-spouse', 'grupaZawodowa': 'Craft-repair', 'relacjaRodzinna': 'Husband', 'rasa': 'Black', 'plec': 'Male', 'zysk': '0', 'strata': '0', 'godzinyTygodniowo': 40, 'kraj': 'Jamaica', 'klasaZysku': '<=50K\\n'}\n",
      "{'wiek': 21, 'formaZatrudnienia': 'Private', 'wagaKontrolna': '265148', 'wyksztalcenie': 'HS-grad', 'wyksztalcenieLiczbowo': 9, 'stanCywilny': 'Never-married', 'grupaZawodowa': 'Handlers-cleaners', 'relacjaRodzinna': 'Other-relative', 'rasa': 'White', 'plec': 'Male', 'zysk': '0', 'strata': '0', 'godzinyTygodniowo': 38, 'kraj': 'Jamaica', 'klasaZysku': '<=50K\\n'}\n",
      "{'wiek': 72, 'formaZatrudnienia': '?', 'wagaKontrolna': '173427', 'wyksztalcenie': 'HS-grad', 'wyksztalcenieLiczbowo': 9, 'stanCywilny': 'Married-civ-spouse', 'grupaZawodowa': '?', 'relacjaRodzinna': 'Husband', 'rasa': 'White', 'plec': 'Male', 'zysk': '0', 'strata': '0', 'godzinyTygodniowo': 40, 'kraj': 'Cuba', 'klasaZysku': '<=50K\\n'}\n",
      "{'wiek': 57, 'formaZatrudnienia': 'Private', 'wagaKontrolna': '206343', 'wyksztalcenie': 'HS-grad', 'wyksztalcenieLiczbowo': 9, 'stanCywilny': 'Separated', 'grupaZawodowa': 'Machine-op-inspct', 'relacjaRodzinna': 'Not-in-family', 'rasa': 'White', 'plec': 'Male', 'zysk': '2174', 'strata': '0', 'godzinyTygodniowo': 40, 'kraj': 'Cuba', 'klasaZysku': '<=50K\\n'}\n",
      "{'wiek': 33, 'formaZatrudnienia': 'Private', 'wagaKontrolna': '315143', 'wyksztalcenie': 'HS-grad', 'wyksztalcenieLiczbowo': 9, 'stanCywilny': 'Married-civ-spouse', 'grupaZawodowa': 'Sales', 'relacjaRodzinna': 'Husband', 'rasa': 'White', 'plec': 'Male', 'zysk': '0', 'strata': '0', 'godzinyTygodniowo': 40, 'kraj': 'Cuba', 'klasaZysku': '>50K\\n'}\n",
      "{'wiek': 42, 'formaZatrudnienia': 'Self-emp-not-inc', 'wagaKontrolna': '217826', 'wyksztalcenie': 'HS-grad', 'wyksztalcenieLiczbowo': 9, 'stanCywilny': 'Married-civ-spouse', 'grupaZawodowa': 'Craft-repair', 'relacjaRodzinna': 'Husband', 'rasa': 'Black', 'plec': 'Male', 'zysk': '0', 'strata': '0', 'godzinyTygodniowo': 25, 'kraj': 'Jamaica', 'klasaZysku': '<=50K\\n'}\n",
      "{'wiek': 39, 'formaZatrudnienia': 'Private', 'wagaKontrolna': '315565', 'wyksztalcenie': 'HS-grad', 'wyksztalcenieLiczbowo': 9, 'stanCywilny': 'Married-civ-spouse', 'grupaZawodowa': 'Transport-moving', 'relacjaRodzinna': 'Husband', 'rasa': 'Black', 'plec': 'Male', 'zysk': '0', 'strata': '0', 'godzinyTygodniowo': 40, 'kraj': 'Cuba', 'klasaZysku': '<=50K\\n'}\n",
      "{'wiek': 47, 'formaZatrudnienia': 'Private', 'wagaKontrolna': '145041', 'wyksztalcenie': 'HS-grad', 'wyksztalcenieLiczbowo': 9, 'stanCywilny': 'Married-civ-spouse', 'grupaZawodowa': 'Machine-op-inspct', 'relacjaRodzinna': 'Husband', 'rasa': 'White', 'plec': 'Male', 'zysk': '0', 'strata': '0', 'godzinyTygodniowo': 40, 'kraj': 'Cuba', 'klasaZysku': '>50K\\n'}\n",
      "{'wiek': 24, 'formaZatrudnienia': 'Private', 'wagaKontrolna': '283092', 'wyksztalcenie': 'HS-grad', 'wyksztalcenieLiczbowo': 9, 'stanCywilny': 'Never-married', 'grupaZawodowa': 'Adm-clerical', 'relacjaRodzinna': 'Other-relative', 'rasa': 'Black', 'plec': 'Male', 'zysk': '0', 'strata': '0', 'godzinyTygodniowo': 40, 'kraj': 'Jamaica', 'klasaZysku': '<=50K\\n'}\n",
      "{'wiek': 59, 'formaZatrudnienia': 'Private', 'wagaKontrolna': '316027', 'wyksztalcenie': 'HS-grad', 'wyksztalcenieLiczbowo': 9, 'stanCywilny': 'Married-civ-spouse', 'grupaZawodowa': 'Other-service', 'relacjaRodzinna': 'Husband', 'rasa': 'White', 'plec': 'Male', 'zysk': '0', 'strata': '0', 'godzinyTygodniowo': 45, 'kraj': 'Cuba', 'klasaZysku': '<=50K\\n'}\n",
      "{'wiek': 25, 'formaZatrudnienia': 'Private', 'wagaKontrolna': '254613', 'wyksztalcenie': 'HS-grad', 'wyksztalcenieLiczbowo': 9, 'stanCywilny': 'Never-married', 'grupaZawodowa': 'Craft-repair', 'relacjaRodzinna': 'Own-child', 'rasa': 'White', 'plec': 'Male', 'zysk': '0', 'strata': '0', 'godzinyTygodniowo': 40, 'kraj': 'Cuba', 'klasaZysku': '<=50K\\n'}\n",
      "{'wiek': 18, 'formaZatrudnienia': 'Private', 'wagaKontrolna': '151386', 'wyksztalcenie': 'HS-grad', 'wyksztalcenieLiczbowo': 9, 'stanCywilny': 'Married-spouse-absent', 'grupaZawodowa': 'Other-service', 'relacjaRodzinna': 'Own-child', 'rasa': 'Black', 'plec': 'Male', 'zysk': '0', 'strata': '0', 'godzinyTygodniowo': 40, 'kraj': 'Jamaica', 'klasaZysku': '<=50K\\n'}\n",
      "{'wiek': 37, 'formaZatrudnienia': 'Self-emp-not-inc', 'wagaKontrolna': '258037', 'wyksztalcenie': 'HS-grad', 'wyksztalcenieLiczbowo': 9, 'stanCywilny': 'Married-civ-spouse', 'grupaZawodowa': 'Transport-moving', 'relacjaRodzinna': 'Husband', 'rasa': 'White', 'plec': 'Male', 'zysk': '0', 'strata': '0', 'godzinyTygodniowo': 45, 'kraj': 'Cuba', 'klasaZysku': '>50K\\n'}\n",
      "{'wiek': 55, 'formaZatrudnienia': 'Private', 'wagaKontrolna': '132887', 'wyksztalcenie': 'HS-grad', 'wyksztalcenieLiczbowo': 9, 'stanCywilny': 'Married-civ-spouse', 'grupaZawodowa': 'Transport-moving', 'relacjaRodzinna': 'Husband', 'rasa': 'Black', 'plec': 'Male', 'zysk': '3411', 'strata': '0', 'godzinyTygodniowo': 40, 'kraj': 'Jamaica', 'klasaZysku': '<=50K\\n'}\n"
     ]
    }
   ],
   "source": [
    "osoby = czytaj()    \n",
    "for osoba in [osoba for osoba in osoby if osoba.plec == \"Male\" and (osoba.kraj == \"Cuba\" or osoba.kraj == \"Jamaica\") and osoba.wyksztalcenie == \"HS-grad\"]:        \n",
    "    print(osoba)"
   ]
  },
  {
   "cell_type": "markdown",
   "id": "188bc701-0a7e-439f-b0f8-ebe6a81754ff",
   "metadata": {
    "jp-MarkdownHeadingCollapsed": true,
    "tags": []
   },
   "source": [
    "#### 2.9. Liczba osób rozwiedzionych w wieku poniżej 30 lat z USA."
   ]
  },
  {
   "cell_type": "code",
   "execution_count": 52,
   "id": "ad910401-65d1-49ac-a058-28cc31d56b2c",
   "metadata": {},
   "outputs": [
    {
     "name": "stdout",
     "output_type": "stream",
     "text": [
      "Liczba rozwiedzionych: 371\n"
     ]
    }
   ],
   "source": [
    "osoby = czytaj()    \n",
    "   \n",
    "print(\"Liczba rozwiedzionych:\",sum(1 for osoba in osoby if osoba.kraj == \"United-States\" and osoba.stanCywilny == \"Divorced\" and osoba.wiek < 30))"
   ]
  },
  {
   "cell_type": "markdown",
   "id": "101ab2ca-88d0-4642-83e9-4572a301ae2e",
   "metadata": {
    "jp-MarkdownHeadingCollapsed": true,
    "tags": []
   },
   "source": [
    "#### 2.10. Liczby osób, które wzięły udział w spisie dla każdego poziomu wykształcenia."
   ]
  },
  {
   "cell_type": "code",
   "execution_count": 53,
   "id": "1193f1b6-eaad-44d9-b3c0-17696c01dfeb",
   "metadata": {},
   "outputs": [
    {
     "name": "stdout",
     "output_type": "stream",
     "text": [
      "Poziom wykształcenia: Bachelors\n",
      "Liczba osób: 5355\n",
      "\n",
      "Poziom wykształcenia: HS-grad\n",
      "Liczba osób: 10501\n",
      "\n",
      "Poziom wykształcenia: 11th\n",
      "Liczba osób: 1175\n",
      "\n",
      "Poziom wykształcenia: Masters\n",
      "Liczba osób: 1723\n",
      "\n",
      "Poziom wykształcenia: 9th\n",
      "Liczba osób: 514\n",
      "\n",
      "Poziom wykształcenia: Some-college\n",
      "Liczba osób: 7291\n",
      "\n",
      "Poziom wykształcenia: Assoc-acdm\n",
      "Liczba osób: 1067\n",
      "\n",
      "Poziom wykształcenia: Assoc-voc\n",
      "Liczba osób: 1382\n",
      "\n",
      "Poziom wykształcenia: 7th-8th\n",
      "Liczba osób: 646\n",
      "\n",
      "Poziom wykształcenia: Doctorate\n",
      "Liczba osób: 413\n",
      "\n",
      "Poziom wykształcenia: Prof-school\n",
      "Liczba osób: 576\n",
      "\n",
      "Poziom wykształcenia: 5th-6th\n",
      "Liczba osób: 333\n",
      "\n",
      "Poziom wykształcenia: 10th\n",
      "Liczba osób: 933\n",
      "\n",
      "Poziom wykształcenia: 1st-4th\n",
      "Liczba osób: 168\n",
      "\n",
      "Poziom wykształcenia: Preschool\n",
      "Liczba osób: 51\n",
      "\n",
      "Poziom wykształcenia: 12th\n",
      "Liczba osób: 433\n",
      "\n"
     ]
    }
   ],
   "source": [
    "osoby = czytaj()   \n",
    "liczby_osob = {}\n",
    "\n",
    "for osoba in osoby:\n",
    "    poziom_wyksztalcenia = osoba.wyksztalcenie\n",
    "    if poziom_wyksztalcenia in liczby_osob:\n",
    "        liczby_osob[poziom_wyksztalcenia] += 1\n",
    "    else:\n",
    "        liczby_osob[poziom_wyksztalcenia] = 1\n",
    "\n",
    "for poziom_wyksztalcenia, liczba_osob in liczby_osob.items():\n",
    "    print(\"Poziom wykształcenia:\", poziom_wyksztalcenia)\n",
    "    print(\"Liczba osób:\", liczba_osob)\n",
    "    print()"
   ]
  }
 ],
 "metadata": {
  "kernelspec": {
   "display_name": "Python 3 (ipykernel)",
   "language": "python",
   "name": "python3"
  },
  "language_info": {
   "codemirror_mode": {
    "name": "ipython",
    "version": 3
   },
   "file_extension": ".py",
   "mimetype": "text/x-python",
   "name": "python",
   "nbconvert_exporter": "python",
   "pygments_lexer": "ipython3",
   "version": "3.9.2"
  }
 },
 "nbformat": 4,
 "nbformat_minor": 5
}
