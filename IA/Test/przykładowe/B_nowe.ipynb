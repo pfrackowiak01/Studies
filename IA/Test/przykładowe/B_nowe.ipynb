{
 "cells": [
  {
   "cell_type": "markdown",
   "id": "1033469f-b8ee-4d65-bb23-fe00c8758d61",
   "metadata": {},
   "source": [
    "#### Import"
   ]
  },
  {
   "cell_type": "code",
   "execution_count": 1,
   "id": "d3b7d308-cad9-4894-97cc-c91a77624b04",
   "metadata": {},
   "outputs": [
    {
     "name": "stderr",
     "output_type": "stream",
     "text": [
      "WARNING: An illegal reflective access operation has occurred\n",
      "WARNING: Illegal reflective access by org.apache.spark.unsafe.Platform (file:/opt/spark/jars/spark-unsafe_2.12-3.1.3.jar) to constructor java.nio.DirectByteBuffer(long,int)\n",
      "WARNING: Please consider reporting this to the maintainers of org.apache.spark.unsafe.Platform\n",
      "WARNING: Use --illegal-access=warn to enable warnings of further illegal reflective access operations\n",
      "WARNING: All illegal access operations will be denied in a future release\n",
      "23/06/15 03:16:56 WARN NativeCodeLoader: Unable to load native-hadoop library for your platform... using builtin-java classes where applicable\n",
      "Using Spark's default log4j profile: org/apache/spark/log4j-defaults.properties\n",
      "Setting default log level to \"WARN\".\n",
      "To adjust logging level use sc.setLogLevel(newLevel). For SparkR, use setLogLevel(newLevel).\n",
      "23/06/15 03:16:57 WARN Utils: Service 'SparkUI' could not bind on port 4040. Attempting port 4041.\n",
      "23/06/15 03:16:57 WARN Utils: Service 'SparkUI' could not bind on port 4041. Attempting port 4042.\n",
      "23/06/15 03:16:57 WARN Utils: Service 'SparkUI' could not bind on port 4042. Attempting port 4043.\n",
      "23/06/15 03:16:57 WARN Utils: Service 'SparkUI' could not bind on port 4043. Attempting port 4044.\n"
     ]
    },
    {
     "name": "stdout",
     "output_type": "stream",
     "text": [
      "3.1.3\n"
     ]
    }
   ],
   "source": [
    "import findspark\n",
    "findspark.init()\n",
    "import pyspark\n",
    "from pyspark.sql import SparkSession\n",
    "spark = SparkSession.builder.getOrCreate()\n",
    "print(spark.version)"
   ]
  },
  {
   "cell_type": "code",
   "execution_count": 2,
   "id": "0e97e67a-83f7-4544-aeef-04d07fa6cdfe",
   "metadata": {},
   "outputs": [
    {
     "name": "stderr",
     "output_type": "stream",
     "text": [
      "[Stage 0:>                                                          (0 + 2) / 2]\r"
     ]
    },
    {
     "name": "stdout",
     "output_type": "stream",
     "text": [
      "Ilość danych w dokumencie: \n",
      " 32593\n",
      "Pierwsza linia dokumentu: \n",
      " {'kod': 'AAA', 'id': '11391', 'plec': 'M', 'region': 'East Anglian Region', 'wyksztalcenie': 'HE Qualification', 'wiek': 68, 'prob': 0, 'punktow': 240, 'zaliczenie': 'Pass'}\n"
     ]
    },
    {
     "name": "stderr",
     "output_type": "stream",
     "text": [
      "                                                                                \r"
     ]
    }
   ],
   "source": [
    "from Student import Student, czytaj, ileElementow\n",
    "\n",
    "lines = spark.sparkContext.textFile(\"studenciOU.txt\")\n",
    "dane = lines.map(lambda line: Student(line.split(\",\")))\n",
    "\n",
    "print(\"Ilość danych w dokumencie: \\n\", dane.count())\n",
    "print(\"Pierwsza linia dokumentu: \\n\", dane.first())"
   ]
  },
  {
   "cell_type": "markdown",
   "id": "3b79712c-2dff-474f-9068-e8d27c1e4a89",
   "metadata": {},
   "source": [
    "### Zadanie B (strumienie i kolekcje Spark)"
   ]
  },
  {
   "cell_type": "markdown",
   "id": "8db294e7-9a0f-4915-98eb-b4ae8d912ed3",
   "metadata": {
    "tags": []
   },
   "source": [
    "#### 1. Dane z kodem zaczynającym się od E."
   ]
  },
  {
   "cell_type": "code",
   "execution_count": 23,
   "id": "833ed236-b405-45d4-98a7-50af27fb38e7",
   "metadata": {},
   "outputs": [
    {
     "name": "stdout",
     "output_type": "stream",
     "text": [
      "{'kod': 'EEE', 'id': '26915', 'plec': 'M', 'region': 'Wales', 'wyksztalcenie': 'Lower Than A Level', 'wiek': 44, 'prob': 0, 'punktow': 30, 'zaliczenie': 'Fail'}\n",
      "{'kod': 'EEE', 'id': '32553', 'plec': 'M', 'region': 'North Western Region', 'wyksztalcenie': 'A Level or Equivalent', 'wiek': 23, 'prob': 0, 'punktow': 60, 'zaliczenie': 'Withdrawn'}\n",
      "{'kod': 'EEE', 'id': '35355', 'plec': 'M', 'region': 'Wales', 'wyksztalcenie': 'Lower Than A Level', 'wiek': 51, 'prob': 0, 'punktow': 30, 'zaliczenie': 'Pass'}\n",
      "{'kod': 'EEE', 'id': '40508', 'plec': 'M', 'region': 'West Midlands Region', 'wyksztalcenie': 'A Level or Equivalent', 'wiek': 41, 'prob': 0, 'punktow': 90, 'zaliczenie': 'Withdrawn'}\n",
      "{'kod': 'EEE', 'id': '42638', 'plec': 'M', 'region': 'Scotland', 'wyksztalcenie': 'HE Qualification', 'wiek': 50, 'prob': 0, 'punktow': 60, 'zaliczenie': 'Pass'}\n"
     ]
    }
   ],
   "source": [
    "for osoba in dane.filter(lambda osoba: osoba.kod.startswith(\"E\")).take(5):\n",
    "    print(osoba)   "
   ]
  },
  {
   "cell_type": "markdown",
   "id": "f76d9311-65ac-448a-934b-bebc6f661aa6",
   "metadata": {},
   "source": [
    "#### 2. Liczbę osób, które próbowały zdać wcześniej jeden raz (z jedną próbą)."
   ]
  },
  {
   "cell_type": "code",
   "execution_count": 4,
   "id": "5e7826b3-9fc3-4ed0-aa66-bb6f4817e5c6",
   "metadata": {},
   "outputs": [
    {
     "name": "stdout",
     "output_type": "stream",
     "text": [
      "Liczba osób, które próbowały zdać z JEDNĄ próbą: 3299\n"
     ]
    }
   ],
   "source": [
    "print(\"Liczba osób, które próbowały zdać z JEDNĄ próbą:\", len(dane.filter(lambda osoba: osoba.prob == 1).collect()))"
   ]
  },
  {
   "cell_type": "markdown",
   "id": "e623e4ea-da3a-4425-93d9-51821b273fcb",
   "metadata": {},
   "source": [
    "#### 3. Liczbę osób w wieku 25-35 lat."
   ]
  },
  {
   "cell_type": "code",
   "execution_count": 5,
   "id": "a9e19161-2acf-4d94-b26d-13d9da872c88",
   "metadata": {},
   "outputs": [
    {
     "name": "stdout",
     "output_type": "stream",
     "text": [
      "Liczba osób, w wieku 25-35 lat: 11808\n"
     ]
    }
   ],
   "source": [
    "print(\"Liczba osób, w wieku 25-35 lat:\", len(dane.filter(lambda osoba: osoba.wiek >= 25 and osoba.wiek <= 35).collect()))"
   ]
  },
  {
   "cell_type": "markdown",
   "id": "c11ac379-2668-4caf-84d4-526d08233772",
   "metadata": {},
   "source": [
    "#### 4. Listę nazw wszystkich regionów występujących w zestawieniu (bez powtórzeń)."
   ]
  },
  {
   "cell_type": "code",
   "execution_count": 27,
   "id": "f5dae712-4b8b-4d57-9e79-1fc885aa17ba",
   "metadata": {},
   "outputs": [
    {
     "name": "stdout",
     "output_type": "stream",
     "text": [
      "Lista nazw wszystkich regionów (bez powtórzeń):\n",
      "East Anglian Region\n",
      "Scotland\n",
      "South East Region\n",
      "West Midlands Region\n",
      "North Region\n",
      "Ireland\n",
      "South West Region\n",
      "East Midlands Region\n",
      "London Region\n",
      "North Western Region\n",
      "Wales\n",
      "South Region\n",
      "Yorkshire Region\n"
     ]
    }
   ],
   "source": [
    "print(\"Lista nazw wszystkich regionów (bez powtórzeń):\")\n",
    "for region in dane.map(lambda student: student.region).distinct().collect():\n",
    "    print(region)"
   ]
  },
  {
   "cell_type": "markdown",
   "id": "3703e5ca-8e0f-4134-8197-ad6e047de635",
   "metadata": {},
   "source": [
    "#### 5. Liczbę osób każdej z płci."
   ]
  },
  {
   "cell_type": "code",
   "execution_count": 36,
   "id": "66ee3373-9fdb-4b3c-861c-b52dadaa60a2",
   "metadata": {},
   "outputs": [
    {
     "name": "stdout",
     "output_type": "stream",
     "text": [
      "('M', 17875)\n",
      "('F', 14718)\n"
     ]
    }
   ],
   "source": [
    "#d = dane.groupBy(\"plec\").map(lambda gr: (gr[0], len(gr[1]))).collect()\n",
    "#\n",
    "#print(\"Liczba osób dla każdej z płci:\")\n",
    "#for gender, count in d:\n",
    "#    print(gender, count)\n",
    "    \n",
    "ls8 = dane.map(lambda x: (x.plec, 1)).reduceByKey(lambda a, b: a + b).collect()\n",
    "print(*ls8, sep=\"\\n\")"
   ]
  },
  {
   "cell_type": "markdown",
   "id": "6cfc72cc-e342-43b5-ac0b-e77db8334ee4",
   "metadata": {},
   "source": [
    "#### 6. Średni wiek osób z Walii (Wales)"
   ]
  },
  {
   "cell_type": "code",
   "execution_count": 39,
   "id": "3ad650c8-9400-40e9-946f-aaae905f388d",
   "metadata": {},
   "outputs": [
    {
     "name": "stdout",
     "output_type": "stream",
     "text": [
      "30.748322147651006\n"
     ]
    }
   ],
   "source": [
    "d = dane.filter(lambda el: el.region==\"Wales\").map(lambda el: el.wiek)\n",
    "print(d.sum()/d.count())"
   ]
  },
  {
   "cell_type": "markdown",
   "id": "820b3bdd-a718-4650-b906-6a152552a274",
   "metadata": {},
   "source": [
    "#### 7. Wiek najstarszego mężczyzny który zdał"
   ]
  },
  {
   "cell_type": "code",
   "execution_count": 41,
   "id": "8ec82734-f9d5-4aae-bd43-8dc32f58093e",
   "metadata": {},
   "outputs": [
    {
     "name": "stdout",
     "output_type": "stream",
     "text": [
      "74\n"
     ]
    }
   ],
   "source": [
    "d = dane.filter(lambda el: el.plec==\"M\").map(lambda el: el.wiek)\n",
    "print(d.max())"
   ]
  },
  {
   "cell_type": "markdown",
   "id": "cb1b97a1-64bc-457a-9672-f2ce3af62712",
   "metadata": {},
   "source": [
    "#### 8. Liczbę osób z regionu Londynu (London Region), które oblały dla każdej liczby punktów."
   ]
  },
  {
   "cell_type": "code",
   "execution_count": 57,
   "id": "aa91bf29-72cc-46b6-b8de-44ff0fbcf222",
   "metadata": {},
   "outputs": [
    {
     "name": "stdout",
     "output_type": "stream",
     "text": [
      "3216\n"
     ]
    }
   ],
   "source": [
    "d = dane.filter(lambda o: o.region == \"London Region\" and osoba.zaliczenie == \"Pass\").collect()\n",
    "print(len(d))"
   ]
  },
  {
   "cell_type": "markdown",
   "id": "1f193a3a-11dd-4943-861b-9c56ba69e487",
   "metadata": {},
   "source": [
    "#### 9. Dane osób, które otrzymały mniej niż 50 punktów."
   ]
  },
  {
   "cell_type": "code",
   "execution_count": 58,
   "id": "aea4e18f-e656-4d99-a03a-7e3bdeaf036c",
   "metadata": {},
   "outputs": [
    {
     "name": "stdout",
     "output_type": "stream",
     "text": [
      "{'kod': 'CCC', 'id': '28418', 'plec': 'F', 'region': 'West Midlands Region', 'wyksztalcenie': 'A Level or Equivalent', 'wiek': 22, 'prob': 0, 'punktow': 30, 'zaliczenie': 'Fail'}\n",
      "{'kod': 'CCC', 'id': '40333', 'plec': 'M', 'region': 'North Region', 'wyksztalcenie': 'HE Qualification', 'wiek': 44, 'prob': 0, 'punktow': 30, 'zaliczenie': 'Withdrawn'}\n",
      "{'kod': 'CCC', 'id': '40604', 'plec': 'M', 'region': 'Ireland', 'wyksztalcenie': 'A Level or Equivalent', 'wiek': 49, 'prob': 0, 'punktow': 30, 'zaliczenie': 'Pass'}\n",
      "{'kod': 'CCC', 'id': '59541', 'plec': 'M', 'region': 'East Anglian Region', 'wyksztalcenie': 'A Level or Equivalent', 'wiek': 25, 'prob': 0, 'punktow': 30, 'zaliczenie': 'Withdrawn'}\n",
      "{'kod': 'CCC', 'id': '62278', 'plec': 'M', 'region': 'West Midlands Region', 'wyksztalcenie': 'A Level or Equivalent', 'wiek': 22, 'prob': 0, 'punktow': 40, 'zaliczenie': 'Fail'}\n"
     ]
    }
   ],
   "source": [
    "ls1 = dane.filter(lambda o: o.punktow < 50).take(5)\n",
    "print(*ls1, sep=\"\\n\")"
   ]
  },
  {
   "cell_type": "markdown",
   "id": "678b3129-b107-4051-a781-eb89784a4e01",
   "metadata": {
    "tags": []
   },
   "source": [
    "#### 10. Liczbę osób w wieku do 23 lat z South Region."
   ]
  },
  {
   "cell_type": "code",
   "execution_count": 60,
   "id": "73d40270-2c33-4375-b654-36d421deac17",
   "metadata": {},
   "outputs": [
    {
     "name": "stdout",
     "output_type": "stream",
     "text": [
      "850\n"
     ]
    }
   ],
   "source": [
    "print(dane.filter(lambda x: x.wiek < 23 and x.region == \"South Region\").count())\n"
   ]
  },
  {
   "cell_type": "markdown",
   "id": "0ec010f8-f147-4819-9824-d9c74a9521b1",
   "metadata": {},
   "source": [
    "#### 11. Listę wszystkie rodzajów wykształcenia występujących w danych (HE Qualification, Lower Than A Level itd.) (bez powtórzeń)"
   ]
  },
  {
   "cell_type": "code",
   "execution_count": 61,
   "id": "a83e2edd-c8e3-45c2-a26e-c4d70b4f0623",
   "metadata": {},
   "outputs": [
    {
     "name": "stdout",
     "output_type": "stream",
     "text": [
      "HE Qualification\n",
      "A Level or Equivalent\n",
      "Lower Than A Level\n",
      "Post Graduate Qualification\n",
      "No Formal quals\n"
     ]
    }
   ],
   "source": [
    "for wyk in dane.map(lambda os: os.wyksztalcenie).distinct().collect():\n",
    "    print(wyk)\n"
   ]
  },
  {
   "cell_type": "markdown",
   "id": "e5294f79-12fe-4aab-a4ad-9a65134e7de8",
   "metadata": {},
   "source": [
    "#### 12. Liczbę osób dla każdego kodu"
   ]
  },
  {
   "cell_type": "code",
   "execution_count": 51,
   "id": "54b51b2e-aff6-4e34-a564-df2a7caa6b4e",
   "metadata": {},
   "outputs": [
    {
     "name": "stdout",
     "output_type": "stream",
     "text": [
      "('AAA', 748)\n",
      "('BBB', 7909)\n",
      "('CCC', 4434)\n",
      "('EEE', 2934)\n",
      "('DDD', 6272)\n",
      "('FFF', 7762)\n",
      "('GGG', 2534)\n"
     ]
    }
   ],
   "source": [
    "ls5 = dane.map(lambda x: (x.kod, 1)).reduceByKey(lambda a, b: a + b).collect()\n",
    "print(*ls5, sep=\"\\n\")"
   ]
  },
  {
   "cell_type": "markdown",
   "id": "aab6a844-9a59-4fd3-b2c9-87f9ff519d31",
   "metadata": {},
   "source": [
    "#### 13. Średnią liczbę punktów osób które zdały"
   ]
  },
  {
   "cell_type": "code",
   "execution_count": 50,
   "id": "7be3a1ea-71ca-4420-9a80-061dff094617",
   "metadata": {},
   "outputs": [
    {
     "name": "stdout",
     "output_type": "stream",
     "text": [
      "74.22093681740941\n"
     ]
    }
   ],
   "source": [
    "ls6 = dane.filter(lambda x: x.zaliczenie == 'Pass').map(lambda x: x.punktow).mean()\n",
    "print(ls6)"
   ]
  },
  {
   "cell_type": "markdown",
   "id": "34e0869b-7899-4496-9427-e4e2044204d9",
   "metadata": {},
   "source": [
    "#### 14. Najmniejszą liczbę prób dla osób ze Szkocji (rejon Scotland)"
   ]
  },
  {
   "cell_type": "code",
   "execution_count": 49,
   "id": "4ac71019-66c5-4ef5-9172-e7f9c55557bf",
   "metadata": {},
   "outputs": [
    {
     "name": "stdout",
     "output_type": "stream",
     "text": [
      "0\n"
     ]
    }
   ],
   "source": [
    "ls7 = dane.filter(lambda x: x.region == 'Scotland').map(lambda x: x.prob).min()\n",
    "print(ls7)\n"
   ]
  },
  {
   "cell_type": "markdown",
   "id": "979d33b8-2de1-4d69-a650-6b51b58aa4bd",
   "metadata": {},
   "source": [
    "#### 15. Liczbę osób w wieku powyżej 40 lat które zdawały co najmniej raz wcześniej dla każdego regionu."
   ]
  },
  {
   "cell_type": "code",
   "execution_count": 48,
   "id": "73f1c048-6b90-4e30-8253-0717766299b8",
   "metadata": {},
   "outputs": [
    {
     "name": "stdout",
     "output_type": "stream",
     "text": [
      "('East Midlands Region', 44)\n",
      "('South East Region', 63)\n",
      "('East Anglian Region', 62)\n",
      "('North Region', 49)\n",
      "('South West Region', 74)\n",
      "('London Region', 109)\n",
      "('Scotland', 102)\n",
      "('Ireland', 37)\n",
      "('West Midlands Region', 71)\n",
      "('South Region', 88)\n",
      "('Yorkshire Region', 46)\n",
      "('Wales', 67)\n",
      "('North Western Region', 82)\n"
     ]
    }
   ],
   "source": [
    "ls8 = dane.filter(lambda x: x.wiek > 40 and x.prob >=1 ).map(lambda x: (x.region, 1)).reduceByKey(lambda a, b: a + b).collect()\n",
    "print(*ls8, sep=\"\\n\")"
   ]
  }
 ],
 "metadata": {
  "kernelspec": {
   "display_name": "Python 3 (ipykernel)",
   "language": "python",
   "name": "python3"
  },
  "language_info": {
   "codemirror_mode": {
    "name": "ipython",
    "version": 3
   },
   "file_extension": ".py",
   "mimetype": "text/x-python",
   "name": "python",
   "nbconvert_exporter": "python",
   "pygments_lexer": "ipython3",
   "version": "3.9.2"
  }
 },
 "nbformat": 4,
 "nbformat_minor": 5
}
