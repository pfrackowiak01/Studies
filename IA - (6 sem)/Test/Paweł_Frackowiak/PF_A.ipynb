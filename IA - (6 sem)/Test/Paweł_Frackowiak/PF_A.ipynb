{
 "cells": [
  {
   "cell_type": "markdown",
   "id": "1033469f-b8ee-4d65-bb23-fe00c8758d61",
   "metadata": {},
   "source": [
    "#### Import"
   ]
  },
  {
   "cell_type": "code",
   "execution_count": 1,
   "id": "6c9ab20c-acc6-4c63-bd57-4cfe8edfaf7c",
   "metadata": {},
   "outputs": [
    {
     "name": "stdout",
     "output_type": "stream",
     "text": [
      "32593\n"
     ]
    }
   ],
   "source": [
    "from Student import Student, czytaj, ileElementow\n",
    "from statistics import mean\n",
    "from itertools import islice\n",
    "from itertools import groupby\n",
    "\n",
    "lista_osob = czytaj()\n",
    "\n",
    "print(ileElementow(czytaj()))"
   ]
  },
  {
   "cell_type": "markdown",
   "id": "3b79712c-2dff-474f-9068-e8d27c1e4a89",
   "metadata": {},
   "source": [
    "### Zadanie A (strumienie i kolekcje Python)"
   ]
  },
  {
   "cell_type": "markdown",
   "id": "8db294e7-9a0f-4915-98eb-b4ae8d912ed3",
   "metadata": {
    "tags": []
   },
   "source": [
    "#### 1. Dane z kodem zaczynającym się od E."
   ]
  },
  {
   "cell_type": "code",
   "execution_count": 2,
   "id": "833ed236-b405-45d4-98a7-50af27fb38e7",
   "metadata": {},
   "outputs": [
    {
     "name": "stdout",
     "output_type": "stream",
     "text": [
      "{'kod': 'EEE', 'id': '26915', 'plec': 'M', 'region': 'Wales', 'wyksztalcenie': 'Lower Than A Level', 'wiek': 44, 'prob': 0, 'punktow': 30, 'zaliczenie': 'Fail'}\n",
      "{'kod': 'EEE', 'id': '32553', 'plec': 'M', 'region': 'North Western Region', 'wyksztalcenie': 'A Level or Equivalent', 'wiek': 23, 'prob': 0, 'punktow': 60, 'zaliczenie': 'Withdrawn'}\n",
      "{'kod': 'EEE', 'id': '35355', 'plec': 'M', 'region': 'Wales', 'wyksztalcenie': 'Lower Than A Level', 'wiek': 51, 'prob': 0, 'punktow': 30, 'zaliczenie': 'Pass'}\n",
      "{'kod': 'EEE', 'id': '40508', 'plec': 'M', 'region': 'West Midlands Region', 'wyksztalcenie': 'A Level or Equivalent', 'wiek': 41, 'prob': 0, 'punktow': 90, 'zaliczenie': 'Withdrawn'}\n",
      "{'kod': 'EEE', 'id': '42638', 'plec': 'M', 'region': 'Scotland', 'wyksztalcenie': 'HE Qualification', 'wiek': 50, 'prob': 0, 'punktow': 60, 'zaliczenie': 'Pass'}\n"
     ]
    }
   ],
   "source": [
    "lista_osob = czytaj()\n",
    "for osoba in islice(filter(lambda osoba: osoba.kod.startswith(\"E\"), lista_osob), 5):\n",
    "    print(osoba)"
   ]
  },
  {
   "cell_type": "markdown",
   "id": "f76d9311-65ac-448a-934b-bebc6f661aa6",
   "metadata": {},
   "source": [
    "#### 2. Liczbę osób młodszych niż 30 lat."
   ]
  },
  {
   "cell_type": "code",
   "execution_count": 3,
   "id": "5e7826b3-9fc3-4ed0-aa66-bb6f4817e5c6",
   "metadata": {},
   "outputs": [
    {
     "name": "stdout",
     "output_type": "stream",
     "text": [
      "17244\n"
     ]
    }
   ],
   "source": [
    "lista_osob = czytaj()\n",
    "print(len(list(filter(lambda osoba: osoba.wiek < 30, lista_osob))))"
   ]
  },
  {
   "cell_type": "markdown",
   "id": "e623e4ea-da3a-4425-93d9-51821b273fcb",
   "metadata": {},
   "source": [
    "#### 3. Liczbę osób w wieku do 24 lat z Walii (Wales)."
   ]
  },
  {
   "cell_type": "code",
   "execution_count": 4,
   "id": "a9e19161-2acf-4d94-b26d-13d9da872c88",
   "metadata": {},
   "outputs": [
    {
     "name": "stdout",
     "output_type": "stream",
     "text": [
      "734\n"
     ]
    }
   ],
   "source": [
    "lista_osob = czytaj()\n",
    "print(len(list(filter(lambda osoba: osoba.wiek <= 24 and osoba.region == \"Wales\", lista_osob))))"
   ]
  },
  {
   "cell_type": "markdown",
   "id": "c11ac379-2668-4caf-84d4-526d08233772",
   "metadata": {},
   "source": [
    "#### 4. Listę wszystkich typów kodów używanych w zestawieniu (bez powtórzeń)."
   ]
  },
  {
   "cell_type": "code",
   "execution_count": 5,
   "id": "f5dae712-4b8b-4d57-9e79-1fc885aa17ba",
   "metadata": {},
   "outputs": [
    {
     "name": "stdout",
     "output_type": "stream",
     "text": [
      "AAA\n",
      "BBB\n",
      "CCC\n",
      "DDD\n",
      "EEE\n",
      "FFF\n",
      "GGG\n"
     ]
    }
   ],
   "source": [
    "lista_osob = czytaj()\n",
    "for kod in sorted(list(set(osoba.kod for osoba in lista_osob))):\n",
    "    print(kod)"
   ]
  },
  {
   "cell_type": "markdown",
   "id": "3703e5ca-8e0f-4134-8197-ad6e047de635",
   "metadata": {},
   "source": [
    "#### 5. Liczbę osób dla każdego kodu."
   ]
  },
  {
   "cell_type": "code",
   "execution_count": 6,
   "id": "66ee3373-9fdb-4b3c-861c-b52dadaa60a2",
   "metadata": {},
   "outputs": [
    {
     "name": "stdout",
     "output_type": "stream",
     "text": [
      "('AAA', 748)\n",
      "('BBB', 7909)\n",
      "('CCC', 4434)\n",
      "('DDD', 6272)\n",
      "('EEE', 2934)\n",
      "('FFF', 7762)\n",
      "('GGG', 2534)\n"
     ]
    }
   ],
   "source": [
    "lista_osob = czytaj()\n",
    "for kod in [(key, len(list(osoby))) for key, osoby in groupby(sorted(list(map(lambda os: os.kod, lista_osob))))]:\n",
    "    print(kod)"
   ]
  },
  {
   "cell_type": "markdown",
   "id": "6cfc72cc-e342-43b5-ac0b-e77db8334ee4",
   "metadata": {},
   "source": [
    "#### 6. Średnią liczbę punktów osób z wykształceniem Lower Than A Level."
   ]
  },
  {
   "cell_type": "code",
   "execution_count": 7,
   "id": "3ad650c8-9400-40e9-946f-aaae905f388d",
   "metadata": {},
   "outputs": [
    {
     "data": {
      "text/plain": [
       "78.60237118103055"
      ]
     },
     "execution_count": 7,
     "metadata": {},
     "output_type": "execute_result"
    }
   ],
   "source": [
    "lista_osob = czytaj()\n",
    "mean(list(map(lambda os: os.punktow, filter(lambda os: os.wyksztalcenie == \"Lower Than A Level\", lista_osob))))"
   ]
  },
  {
   "cell_type": "markdown",
   "id": "820b3bdd-a718-4650-b906-6a152552a274",
   "metadata": {},
   "source": [
    "#### 7. Wiek najmłodszego mężczyzny który zrezygnował (Withdrawn)."
   ]
  },
  {
   "cell_type": "code",
   "execution_count": 8,
   "id": "8ec82734-f9d5-4aae-bd43-8dc32f58093e",
   "metadata": {},
   "outputs": [
    {
     "data": {
      "text/plain": [
       "15"
      ]
     },
     "execution_count": 8,
     "metadata": {},
     "output_type": "execute_result"
    }
   ],
   "source": [
    "lista_osob = czytaj()\n",
    "min(list(map(lambda osoba: osoba.wiek, filter(lambda x : x.plec == \"M\" and x.zaliczenie == \"Withdrawn\", lista_osob))))"
   ]
  },
  {
   "cell_type": "markdown",
   "id": "cb1b97a1-64bc-457a-9672-f2ce3af62712",
   "metadata": {},
   "source": [
    "#### 8. Liczbę osób z wykształceniem niższym niż A (Lower Than A Level), które nie zdawały wczesniej dla każdego regionu."
   ]
  },
  {
   "cell_type": "code",
   "execution_count": 9,
   "id": "aa91bf29-72cc-46b6-b8de-44ff0fbcf222",
   "metadata": {},
   "outputs": [
    {
     "name": "stdout",
     "output_type": "stream",
     "text": [
      "('East Anglian Region', 1248)\n",
      "('East Midlands Region', 926)\n",
      "('Ireland', 407)\n",
      "('London Region', 1072)\n",
      "('North Region', 611)\n",
      "('North Western Region', 1124)\n",
      "('Scotland', 769)\n",
      "('South East Region', 778)\n",
      "('South Region', 1105)\n",
      "('South West Region', 873)\n",
      "('Wales', 717)\n",
      "('West Midlands Region', 922)\n",
      "('Yorkshire Region', 746)\n"
     ]
    }
   ],
   "source": [
    "lista_osob = czytaj()\n",
    "for kod in [(key, len(list(osoby))) for key, osoby in groupby(sorted(list(map(lambda os: os.region, filter(lambda x : x.wyksztalcenie == \"Lower Than A Level\" and x.prob == 0, lista_osob)))))]:\n",
    "    print(kod)"
   ]
  }
 ],
 "metadata": {
  "kernelspec": {
   "display_name": "Python 3 (ipykernel)",
   "language": "python",
   "name": "python3"
  },
  "language_info": {
   "codemirror_mode": {
    "name": "ipython",
    "version": 3
   },
   "file_extension": ".py",
   "mimetype": "text/x-python",
   "name": "python",
   "nbconvert_exporter": "python",
   "pygments_lexer": "ipython3",
   "version": "3.9.2"
  }
 },
 "nbformat": 4,
 "nbformat_minor": 5
}
